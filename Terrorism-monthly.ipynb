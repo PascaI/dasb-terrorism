{
 "cells": [
  {
   "cell_type": "code",
   "execution_count": 15,
   "metadata": {},
   "outputs": [
    {
     "name": "stderr",
     "output_type": "stream",
     "text": [
      "-- Attaching packages --------------------------------------- tidyverse 1.2.1 --\n",
      "v ggplot2 3.1.0     v purrr   0.2.5\n",
      "v tibble  1.4.2     v dplyr   0.7.8\n",
      "v tidyr   0.8.2     v stringr 1.3.1\n",
      "v readr   1.1.1     v forcats 0.3.0\n",
      "-- Conflicts ------------------------------------------ tidyverse_conflicts() --\n",
      "x dplyr::filter() masks stats::filter()\n",
      "x dplyr::lag()    masks stats::lag()\n",
      "\n",
      "Attaching package: 'lubridate'\n",
      "\n",
      "The following object is masked from 'package:base':\n",
      "\n",
      "    date\n",
      "\n"
     ]
    }
   ],
   "source": [
    "library(tidyverse)\n",
    "library(dplyr)\n",
    "library(splines)\n",
    "library(modelr)\n",
    "library(lubridate)"
   ]
  },
  {
   "cell_type": "code",
   "execution_count": 6,
   "metadata": {
    "scrolled": true
   },
   "outputs": [],
   "source": [
    "terror_data <- read.csv(\"D:/OneDrive-HSLU/OneDrive - Hochschule Luzern/HSLU/5 Semester/DASB/globalterror.csv\")"
   ]
  },
  {
   "cell_type": "code",
   "execution_count": 7,
   "metadata": {},
   "outputs": [
    {
     "data": {
      "text/html": [
       "<table>\n",
       "<thead><tr><th scope=col>eventid</th><th scope=col>iyear</th><th scope=col>imonth</th><th scope=col>iday</th><th scope=col>approxdate</th><th scope=col>extended</th><th scope=col>resolution</th><th scope=col>country</th><th scope=col>country_txt</th><th scope=col>region</th><th scope=col>...</th><th scope=col>addnotes</th><th scope=col>scite1</th><th scope=col>scite2</th><th scope=col>scite3</th><th scope=col>dbsource</th><th scope=col>INT_LOG</th><th scope=col>INT_IDEO</th><th scope=col>INT_MISC</th><th scope=col>INT_ANY</th><th scope=col>related</th></tr></thead>\n",
       "<tbody>\n",
       "\t<tr><td>1.97000e+11                                                                                                                  </td><td>1970                                                                                                                         </td><td>7                                                                                                                            </td><td>2                                                                                                                            </td><td>                                                                                                                             </td><td>0                                                                                                                            </td><td>                                                                                                                             </td><td> 58                                                                                                                          </td><td>Dominican Republic                                                                                                           </td><td>2                                                                                                                            </td><td>...                                                                                                                          </td><td>                                                                                                                             </td><td>                                                                                                                             </td><td>                                                                                                                             </td><td>                                                                                                                             </td><td>PGIS                                                                                                                         </td><td> 0                                                                                                                           </td><td> 0                                                                                                                           </td><td>0                                                                                                                            </td><td> 0                                                                                                                           </td><td>                                                                                                                             </td></tr>\n",
       "\t<tr><td>1.97000e+11                                                                                                                  </td><td>1970                                                                                                                         </td><td>0                                                                                                                            </td><td>0                                                                                                                            </td><td>                                                                                                                             </td><td>0                                                                                                                            </td><td>                                                                                                                             </td><td>130                                                                                                                          </td><td>Mexico                                                                                                                       </td><td>1                                                                                                                            </td><td>...                                                                                                                          </td><td>                                                                                                                             </td><td>                                                                                                                             </td><td>                                                                                                                             </td><td>                                                                                                                             </td><td>PGIS                                                                                                                         </td><td> 0                                                                                                                           </td><td> 1                                                                                                                           </td><td>1                                                                                                                            </td><td> 1                                                                                                                           </td><td>                                                                                                                             </td></tr>\n",
       "\t<tr><td>1.97001e+11                                                                                                                  </td><td>1970                                                                                                                         </td><td>1                                                                                                                            </td><td>0                                                                                                                            </td><td>                                                                                                                             </td><td>0                                                                                                                            </td><td>                                                                                                                             </td><td>160                                                                                                                          </td><td>Philippines                                                                                                                  </td><td>5                                                                                                                            </td><td>...                                                                                                                          </td><td>                                                                                                                             </td><td>                                                                                                                             </td><td>                                                                                                                             </td><td>                                                                                                                             </td><td>PGIS                                                                                                                         </td><td>-9                                                                                                                           </td><td>-9                                                                                                                           </td><td>1                                                                                                                            </td><td> 1                                                                                                                           </td><td>                                                                                                                             </td></tr>\n",
       "\t<tr><td>1.97001e+11                                                                                                                  </td><td>1970                                                                                                                         </td><td>1                                                                                                                            </td><td>0                                                                                                                            </td><td>                                                                                                                             </td><td>0                                                                                                                            </td><td>                                                                                                                             </td><td> 78                                                                                                                          </td><td>Greece                                                                                                                       </td><td>8                                                                                                                            </td><td>...                                                                                                                          </td><td>                                                                                                                             </td><td>                                                                                                                             </td><td>                                                                                                                             </td><td>                                                                                                                             </td><td>PGIS                                                                                                                         </td><td>-9                                                                                                                           </td><td>-9                                                                                                                           </td><td>1                                                                                                                            </td><td> 1                                                                                                                           </td><td>                                                                                                                             </td></tr>\n",
       "\t<tr><td>1.97001e+11                                                                                                                  </td><td>1970                                                                                                                         </td><td>1                                                                                                                            </td><td>0                                                                                                                            </td><td>                                                                                                                             </td><td>0                                                                                                                            </td><td>                                                                                                                             </td><td>101                                                                                                                          </td><td>Japan                                                                                                                        </td><td>4                                                                                                                            </td><td>...                                                                                                                          </td><td>                                                                                                                             </td><td>                                                                                                                             </td><td>                                                                                                                             </td><td>                                                                                                                             </td><td>PGIS                                                                                                                         </td><td>-9                                                                                                                           </td><td>-9                                                                                                                           </td><td>1                                                                                                                            </td><td> 1                                                                                                                           </td><td>                                                                                                                             </td></tr>\n",
       "\t<tr><td>1.97001e+11                                                                                                                  </td><td>1970                                                                                                                         </td><td>1                                                                                                                            </td><td>1                                                                                                                            </td><td>                                                                                                                             </td><td>0                                                                                                                            </td><td>                                                                                                                             </td><td>217                                                                                                                          </td><td>United States                                                                                                                </td><td>1                                                                                                                            </td><td>...                                                                                                                          </td><td>The Cairo Chief of Police, William Petersen, resigned as a result of the attack.                                             </td><td>\"Police Chief Quits,\" Washington Post, January 2, 1970.                                                                      </td><td>\"Cairo Police Chief Quits; Decries Local 'Militants',\" Afro-American, January 10, 1970.                                      </td><td>Christopher Hewitt, \"Political Violence and Terrorism in Modern America: A Chronology,\" Praeger Security International, 2005.</td><td>Hewitt Project                                                                                                               </td><td>-9                                                                                                                           </td><td>-9                                                                                                                           </td><td>0                                                                                                                            </td><td>-9                                                                                                                           </td><td>                                                                                                                             </td></tr>\n",
       "</tbody>\n",
       "</table>\n"
      ],
      "text/latex": [
       "\\begin{tabular}{r|lllllllllllllllllllllllllllllllllllllllllllllllllllllllllllllllllllllllllllllllllllllllllllllllllllllllllllllllllllllllllllllllllllllll}\n",
       " eventid & iyear & imonth & iday & approxdate & extended & resolution & country & country\\_txt & region & ... & addnotes & scite1 & scite2 & scite3 & dbsource & INT\\_LOG & INT\\_IDEO & INT\\_MISC & INT\\_ANY & related\\\\\n",
       "\\hline\n",
       "\t 1.97000e+11                                                                                                                   & 1970                                                                                                                          & 7                                                                                                                             & 2                                                                                                                             &                                                                                                                               & 0                                                                                                                             &                                                                                                                               &  58                                                                                                                           & Dominican Republic                                                                                                            & 2                                                                                                                             & ...                                                                                                                           &                                                                                                                               &                                                                                                                               &                                                                                                                               &                                                                                                                               & PGIS                                                                                                                          &  0                                                                                                                            &  0                                                                                                                            & 0                                                                                                                             &  0                                                                                                                            &                                                                                                                              \\\\\n",
       "\t 1.97000e+11                                                                                                                   & 1970                                                                                                                          & 0                                                                                                                             & 0                                                                                                                             &                                                                                                                               & 0                                                                                                                             &                                                                                                                               & 130                                                                                                                           & Mexico                                                                                                                        & 1                                                                                                                             & ...                                                                                                                           &                                                                                                                               &                                                                                                                               &                                                                                                                               &                                                                                                                               & PGIS                                                                                                                          &  0                                                                                                                            &  1                                                                                                                            & 1                                                                                                                             &  1                                                                                                                            &                                                                                                                              \\\\\n",
       "\t 1.97001e+11                                                                                                                   & 1970                                                                                                                          & 1                                                                                                                             & 0                                                                                                                             &                                                                                                                               & 0                                                                                                                             &                                                                                                                               & 160                                                                                                                           & Philippines                                                                                                                   & 5                                                                                                                             & ...                                                                                                                           &                                                                                                                               &                                                                                                                               &                                                                                                                               &                                                                                                                               & PGIS                                                                                                                          & -9                                                                                                                            & -9                                                                                                                            & 1                                                                                                                             &  1                                                                                                                            &                                                                                                                              \\\\\n",
       "\t 1.97001e+11                                                                                                                   & 1970                                                                                                                          & 1                                                                                                                             & 0                                                                                                                             &                                                                                                                               & 0                                                                                                                             &                                                                                                                               &  78                                                                                                                           & Greece                                                                                                                        & 8                                                                                                                             & ...                                                                                                                           &                                                                                                                               &                                                                                                                               &                                                                                                                               &                                                                                                                               & PGIS                                                                                                                          & -9                                                                                                                            & -9                                                                                                                            & 1                                                                                                                             &  1                                                                                                                            &                                                                                                                              \\\\\n",
       "\t 1.97001e+11                                                                                                                   & 1970                                                                                                                          & 1                                                                                                                             & 0                                                                                                                             &                                                                                                                               & 0                                                                                                                             &                                                                                                                               & 101                                                                                                                           & Japan                                                                                                                         & 4                                                                                                                             & ...                                                                                                                           &                                                                                                                               &                                                                                                                               &                                                                                                                               &                                                                                                                               & PGIS                                                                                                                          & -9                                                                                                                            & -9                                                                                                                            & 1                                                                                                                             &  1                                                                                                                            &                                                                                                                              \\\\\n",
       "\t 1.97001e+11                                                                                                                   & 1970                                                                                                                          & 1                                                                                                                             & 1                                                                                                                             &                                                                                                                               & 0                                                                                                                             &                                                                                                                               & 217                                                                                                                           & United States                                                                                                                 & 1                                                                                                                             & ...                                                                                                                           & The Cairo Chief of Police, William Petersen, resigned as a result of the attack.                                              & \"Police Chief Quits,\" Washington Post, January 2, 1970.                                                                       & \"Cairo Police Chief Quits; Decries Local 'Militants',\" Afro-American, January 10, 1970.                                       & Christopher Hewitt, \"Political Violence and Terrorism in Modern America: A Chronology,\" Praeger Security International, 2005. & Hewitt Project                                                                                                                & -9                                                                                                                            & -9                                                                                                                            & 0                                                                                                                             & -9                                                                                                                            &                                                                                                                              \\\\\n",
       "\\end{tabular}\n"
      ],
      "text/markdown": [
       "\n",
       "eventid | iyear | imonth | iday | approxdate | extended | resolution | country | country_txt | region | ... | addnotes | scite1 | scite2 | scite3 | dbsource | INT_LOG | INT_IDEO | INT_MISC | INT_ANY | related | \n",
       "|---|---|---|---|---|---|\n",
       "| 1.97000e+11                                                                                                                   | 1970                                                                                                                          | 7                                                                                                                             | 2                                                                                                                             |                                                                                                                               | 0                                                                                                                             |                                                                                                                               |  58                                                                                                                           | Dominican Republic                                                                                                            | 2                                                                                                                             | ...                                                                                                                           |                                                                                                                               |                                                                                                                               |                                                                                                                               |                                                                                                                               | PGIS                                                                                                                          |  0                                                                                                                            |  0                                                                                                                            | 0                                                                                                                             |  0                                                                                                                            |                                                                                                                               | \n",
       "| 1.97000e+11                                                                                                                   | 1970                                                                                                                          | 0                                                                                                                             | 0                                                                                                                             |                                                                                                                               | 0                                                                                                                             |                                                                                                                               | 130                                                                                                                           | Mexico                                                                                                                        | 1                                                                                                                             | ...                                                                                                                           |                                                                                                                               |                                                                                                                               |                                                                                                                               |                                                                                                                               | PGIS                                                                                                                          |  0                                                                                                                            |  1                                                                                                                            | 1                                                                                                                             |  1                                                                                                                            |                                                                                                                               | \n",
       "| 1.97001e+11                                                                                                                   | 1970                                                                                                                          | 1                                                                                                                             | 0                                                                                                                             |                                                                                                                               | 0                                                                                                                             |                                                                                                                               | 160                                                                                                                           | Philippines                                                                                                                   | 5                                                                                                                             | ...                                                                                                                           |                                                                                                                               |                                                                                                                               |                                                                                                                               |                                                                                                                               | PGIS                                                                                                                          | -9                                                                                                                            | -9                                                                                                                            | 1                                                                                                                             |  1                                                                                                                            |                                                                                                                               | \n",
       "| 1.97001e+11                                                                                                                   | 1970                                                                                                                          | 1                                                                                                                             | 0                                                                                                                             |                                                                                                                               | 0                                                                                                                             |                                                                                                                               |  78                                                                                                                           | Greece                                                                                                                        | 8                                                                                                                             | ...                                                                                                                           |                                                                                                                               |                                                                                                                               |                                                                                                                               |                                                                                                                               | PGIS                                                                                                                          | -9                                                                                                                            | -9                                                                                                                            | 1                                                                                                                             |  1                                                                                                                            |                                                                                                                               | \n",
       "| 1.97001e+11                                                                                                                   | 1970                                                                                                                          | 1                                                                                                                             | 0                                                                                                                             |                                                                                                                               | 0                                                                                                                             |                                                                                                                               | 101                                                                                                                           | Japan                                                                                                                         | 4                                                                                                                             | ...                                                                                                                           |                                                                                                                               |                                                                                                                               |                                                                                                                               |                                                                                                                               | PGIS                                                                                                                          | -9                                                                                                                            | -9                                                                                                                            | 1                                                                                                                             |  1                                                                                                                            |                                                                                                                               | \n",
       "| 1.97001e+11                                                                                                                   | 1970                                                                                                                          | 1                                                                                                                             | 1                                                                                                                             |                                                                                                                               | 0                                                                                                                             |                                                                                                                               | 217                                                                                                                           | United States                                                                                                                 | 1                                                                                                                             | ...                                                                                                                           | The Cairo Chief of Police, William Petersen, resigned as a result of the attack.                                              | \"Police Chief Quits,\" Washington Post, January 2, 1970.                                                                       | \"Cairo Police Chief Quits; Decries Local 'Militants',\" Afro-American, January 10, 1970.                                       | Christopher Hewitt, \"Political Violence and Terrorism in Modern America: A Chronology,\" Praeger Security International, 2005. | Hewitt Project                                                                                                                | -9                                                                                                                            | -9                                                                                                                            | 0                                                                                                                             | -9                                                                                                                            |                                                                                                                               | \n",
       "\n",
       "\n"
      ],
      "text/plain": [
       "  eventid     iyear imonth iday approxdate extended resolution country\n",
       "1 1.97000e+11 1970  7      2               0                    58    \n",
       "2 1.97000e+11 1970  0      0               0                   130    \n",
       "3 1.97001e+11 1970  1      0               0                   160    \n",
       "4 1.97001e+11 1970  1      0               0                    78    \n",
       "5 1.97001e+11 1970  1      0               0                   101    \n",
       "6 1.97001e+11 1970  1      1               0                   217    \n",
       "  country_txt        region ...\n",
       "1 Dominican Republic 2      ...\n",
       "2 Mexico             1      ...\n",
       "3 Philippines        5      ...\n",
       "4 Greece             8      ...\n",
       "5 Japan              4      ...\n",
       "6 United States      1      ...\n",
       "  addnotes                                                                        \n",
       "1                                                                                 \n",
       "2                                                                                 \n",
       "3                                                                                 \n",
       "4                                                                                 \n",
       "5                                                                                 \n",
       "6 The Cairo Chief of Police, William Petersen, resigned as a result of the attack.\n",
       "  scite1                                                 \n",
       "1                                                        \n",
       "2                                                        \n",
       "3                                                        \n",
       "4                                                        \n",
       "5                                                        \n",
       "6 \"Police Chief Quits,\" Washington Post, January 2, 1970.\n",
       "  scite2                                                                                 \n",
       "1                                                                                        \n",
       "2                                                                                        \n",
       "3                                                                                        \n",
       "4                                                                                        \n",
       "5                                                                                        \n",
       "6 \"Cairo Police Chief Quits; Decries Local 'Militants',\" Afro-American, January 10, 1970.\n",
       "  scite3                                                                                                                       \n",
       "1                                                                                                                              \n",
       "2                                                                                                                              \n",
       "3                                                                                                                              \n",
       "4                                                                                                                              \n",
       "5                                                                                                                              \n",
       "6 Christopher Hewitt, \"Political Violence and Terrorism in Modern America: A Chronology,\" Praeger Security International, 2005.\n",
       "  dbsource       INT_LOG INT_IDEO INT_MISC INT_ANY related\n",
       "1 PGIS            0       0       0         0             \n",
       "2 PGIS            0       1       1         1             \n",
       "3 PGIS           -9      -9       1         1             \n",
       "4 PGIS           -9      -9       1         1             \n",
       "5 PGIS           -9      -9       1         1             \n",
       "6 Hewitt Project -9      -9       0        -9             "
      ]
     },
     "metadata": {},
     "output_type": "display_data"
    }
   ],
   "source": [
    "head(terror_data)"
   ]
  },
  {
   "cell_type": "markdown",
   "metadata": {},
   "source": [
    "## Rename Variables"
   ]
  },
  {
   "cell_type": "code",
   "execution_count": 16,
   "metadata": {},
   "outputs": [],
   "source": [
    "terror <- terror_data %>% rename(year = iyear, month = imonth, day = iday, country_id = country, country = country_txt, region_id = region, region = region_txt)"
   ]
  },
  {
   "cell_type": "markdown",
   "metadata": {},
   "source": [
    "## Add Date as Variable"
   ]
  },
  {
   "cell_type": "code",
   "execution_count": 17,
   "metadata": {},
   "outputs": [],
   "source": [
    "terror <- terror %>% mutate(date = make_date(year, month, day))"
   ]
  },
  {
   "cell_type": "code",
   "execution_count": 18,
   "metadata": {
    "scrolled": false
   },
   "outputs": [
    {
     "data": {
      "text/html": [
       "<ol class=list-inline>\n",
       "\t<li>'eventid'</li>\n",
       "\t<li>'year'</li>\n",
       "\t<li>'month'</li>\n",
       "\t<li>'day'</li>\n",
       "\t<li>'approxdate'</li>\n",
       "\t<li>'extended'</li>\n",
       "\t<li>'resolution'</li>\n",
       "\t<li>'country_id'</li>\n",
       "\t<li>'country'</li>\n",
       "\t<li>'region_id'</li>\n",
       "\t<li>'region'</li>\n",
       "\t<li>'provstate'</li>\n",
       "\t<li>'city'</li>\n",
       "\t<li>'latitude'</li>\n",
       "\t<li>'longitude'</li>\n",
       "\t<li>'specificity'</li>\n",
       "\t<li>'vicinity'</li>\n",
       "\t<li>'location'</li>\n",
       "\t<li>'summary'</li>\n",
       "\t<li>'crit1'</li>\n",
       "\t<li>'crit2'</li>\n",
       "\t<li>'crit3'</li>\n",
       "\t<li>'doubtterr'</li>\n",
       "\t<li>'alternative'</li>\n",
       "\t<li>'alternative_txt'</li>\n",
       "\t<li>'multiple'</li>\n",
       "\t<li>'success'</li>\n",
       "\t<li>'suicide'</li>\n",
       "\t<li>'attacktype1'</li>\n",
       "\t<li>'attacktype1_txt'</li>\n",
       "\t<li>'attacktype2'</li>\n",
       "\t<li>'attacktype2_txt'</li>\n",
       "\t<li>'attacktype3'</li>\n",
       "\t<li>'attacktype3_txt'</li>\n",
       "\t<li>'targtype1'</li>\n",
       "\t<li>'targtype1_txt'</li>\n",
       "\t<li>'targsubtype1'</li>\n",
       "\t<li>'targsubtype1_txt'</li>\n",
       "\t<li>'corp1'</li>\n",
       "\t<li>'target1'</li>\n",
       "\t<li>'natlty1'</li>\n",
       "\t<li>'natlty1_txt'</li>\n",
       "\t<li>'targtype2'</li>\n",
       "\t<li>'targtype2_txt'</li>\n",
       "\t<li>'targsubtype2'</li>\n",
       "\t<li>'targsubtype2_txt'</li>\n",
       "\t<li>'corp2'</li>\n",
       "\t<li>'target2'</li>\n",
       "\t<li>'natlty2'</li>\n",
       "\t<li>'natlty2_txt'</li>\n",
       "\t<li>'targtype3'</li>\n",
       "\t<li>'targtype3_txt'</li>\n",
       "\t<li>'targsubtype3'</li>\n",
       "\t<li>'targsubtype3_txt'</li>\n",
       "\t<li>'corp3'</li>\n",
       "\t<li>'target3'</li>\n",
       "\t<li>'natlty3'</li>\n",
       "\t<li>'natlty3_txt'</li>\n",
       "\t<li>'gname'</li>\n",
       "\t<li>'gsubname'</li>\n",
       "\t<li>'gname2'</li>\n",
       "\t<li>'gsubname2'</li>\n",
       "\t<li>'gname3'</li>\n",
       "\t<li>'gsubname3'</li>\n",
       "\t<li>'motive'</li>\n",
       "\t<li>'guncertain1'</li>\n",
       "\t<li>'guncertain2'</li>\n",
       "\t<li>'guncertain3'</li>\n",
       "\t<li>'individual'</li>\n",
       "\t<li>'nperps'</li>\n",
       "\t<li>'nperpcap'</li>\n",
       "\t<li>'claimed'</li>\n",
       "\t<li>'claimmode'</li>\n",
       "\t<li>'claimmode_txt'</li>\n",
       "\t<li>'claim2'</li>\n",
       "\t<li>'claimmode2'</li>\n",
       "\t<li>'claimmode2_txt'</li>\n",
       "\t<li>'claim3'</li>\n",
       "\t<li>'claimmode3'</li>\n",
       "\t<li>'claimmode3_txt'</li>\n",
       "\t<li>'compclaim'</li>\n",
       "\t<li>'weaptype1'</li>\n",
       "\t<li>'weaptype1_txt'</li>\n",
       "\t<li>'weapsubtype1'</li>\n",
       "\t<li>'weapsubtype1_txt'</li>\n",
       "\t<li>'weaptype2'</li>\n",
       "\t<li>'weaptype2_txt'</li>\n",
       "\t<li>'weapsubtype2'</li>\n",
       "\t<li>'weapsubtype2_txt'</li>\n",
       "\t<li>'weaptype3'</li>\n",
       "\t<li>'weaptype3_txt'</li>\n",
       "\t<li>'weapsubtype3'</li>\n",
       "\t<li>'weapsubtype3_txt'</li>\n",
       "\t<li>'weaptype4'</li>\n",
       "\t<li>'weaptype4_txt'</li>\n",
       "\t<li>'weapsubtype4'</li>\n",
       "\t<li>'weapsubtype4_txt'</li>\n",
       "\t<li>'weapdetail'</li>\n",
       "\t<li>'nkill'</li>\n",
       "\t<li>'nkillus'</li>\n",
       "\t<li>'nkillter'</li>\n",
       "\t<li>'nwound'</li>\n",
       "\t<li>'nwoundus'</li>\n",
       "\t<li>'nwoundte'</li>\n",
       "\t<li>'property'</li>\n",
       "\t<li>'propextent'</li>\n",
       "\t<li>'propextent_txt'</li>\n",
       "\t<li>'propvalue'</li>\n",
       "\t<li>'propcomment'</li>\n",
       "\t<li>'ishostkid'</li>\n",
       "\t<li>'nhostkid'</li>\n",
       "\t<li>'nhostkidus'</li>\n",
       "\t<li>'nhours'</li>\n",
       "\t<li>'ndays'</li>\n",
       "\t<li>'divert'</li>\n",
       "\t<li>'kidhijcountry'</li>\n",
       "\t<li>'ransom'</li>\n",
       "\t<li>'ransomamt'</li>\n",
       "\t<li>'ransomamtus'</li>\n",
       "\t<li>'ransompaid'</li>\n",
       "\t<li>'ransompaidus'</li>\n",
       "\t<li>'ransomnote'</li>\n",
       "\t<li>'hostkidoutcome'</li>\n",
       "\t<li>'hostkidoutcome_txt'</li>\n",
       "\t<li>'nreleased'</li>\n",
       "\t<li>'addnotes'</li>\n",
       "\t<li>'scite1'</li>\n",
       "\t<li>'scite2'</li>\n",
       "\t<li>'scite3'</li>\n",
       "\t<li>'dbsource'</li>\n",
       "\t<li>'INT_LOG'</li>\n",
       "\t<li>'INT_IDEO'</li>\n",
       "\t<li>'INT_MISC'</li>\n",
       "\t<li>'INT_ANY'</li>\n",
       "\t<li>'related'</li>\n",
       "\t<li>'date'</li>\n",
       "</ol>\n"
      ],
      "text/latex": [
       "\\begin{enumerate*}\n",
       "\\item 'eventid'\n",
       "\\item 'year'\n",
       "\\item 'month'\n",
       "\\item 'day'\n",
       "\\item 'approxdate'\n",
       "\\item 'extended'\n",
       "\\item 'resolution'\n",
       "\\item 'country\\_id'\n",
       "\\item 'country'\n",
       "\\item 'region\\_id'\n",
       "\\item 'region'\n",
       "\\item 'provstate'\n",
       "\\item 'city'\n",
       "\\item 'latitude'\n",
       "\\item 'longitude'\n",
       "\\item 'specificity'\n",
       "\\item 'vicinity'\n",
       "\\item 'location'\n",
       "\\item 'summary'\n",
       "\\item 'crit1'\n",
       "\\item 'crit2'\n",
       "\\item 'crit3'\n",
       "\\item 'doubtterr'\n",
       "\\item 'alternative'\n",
       "\\item 'alternative\\_txt'\n",
       "\\item 'multiple'\n",
       "\\item 'success'\n",
       "\\item 'suicide'\n",
       "\\item 'attacktype1'\n",
       "\\item 'attacktype1\\_txt'\n",
       "\\item 'attacktype2'\n",
       "\\item 'attacktype2\\_txt'\n",
       "\\item 'attacktype3'\n",
       "\\item 'attacktype3\\_txt'\n",
       "\\item 'targtype1'\n",
       "\\item 'targtype1\\_txt'\n",
       "\\item 'targsubtype1'\n",
       "\\item 'targsubtype1\\_txt'\n",
       "\\item 'corp1'\n",
       "\\item 'target1'\n",
       "\\item 'natlty1'\n",
       "\\item 'natlty1\\_txt'\n",
       "\\item 'targtype2'\n",
       "\\item 'targtype2\\_txt'\n",
       "\\item 'targsubtype2'\n",
       "\\item 'targsubtype2\\_txt'\n",
       "\\item 'corp2'\n",
       "\\item 'target2'\n",
       "\\item 'natlty2'\n",
       "\\item 'natlty2\\_txt'\n",
       "\\item 'targtype3'\n",
       "\\item 'targtype3\\_txt'\n",
       "\\item 'targsubtype3'\n",
       "\\item 'targsubtype3\\_txt'\n",
       "\\item 'corp3'\n",
       "\\item 'target3'\n",
       "\\item 'natlty3'\n",
       "\\item 'natlty3\\_txt'\n",
       "\\item 'gname'\n",
       "\\item 'gsubname'\n",
       "\\item 'gname2'\n",
       "\\item 'gsubname2'\n",
       "\\item 'gname3'\n",
       "\\item 'gsubname3'\n",
       "\\item 'motive'\n",
       "\\item 'guncertain1'\n",
       "\\item 'guncertain2'\n",
       "\\item 'guncertain3'\n",
       "\\item 'individual'\n",
       "\\item 'nperps'\n",
       "\\item 'nperpcap'\n",
       "\\item 'claimed'\n",
       "\\item 'claimmode'\n",
       "\\item 'claimmode\\_txt'\n",
       "\\item 'claim2'\n",
       "\\item 'claimmode2'\n",
       "\\item 'claimmode2\\_txt'\n",
       "\\item 'claim3'\n",
       "\\item 'claimmode3'\n",
       "\\item 'claimmode3\\_txt'\n",
       "\\item 'compclaim'\n",
       "\\item 'weaptype1'\n",
       "\\item 'weaptype1\\_txt'\n",
       "\\item 'weapsubtype1'\n",
       "\\item 'weapsubtype1\\_txt'\n",
       "\\item 'weaptype2'\n",
       "\\item 'weaptype2\\_txt'\n",
       "\\item 'weapsubtype2'\n",
       "\\item 'weapsubtype2\\_txt'\n",
       "\\item 'weaptype3'\n",
       "\\item 'weaptype3\\_txt'\n",
       "\\item 'weapsubtype3'\n",
       "\\item 'weapsubtype3\\_txt'\n",
       "\\item 'weaptype4'\n",
       "\\item 'weaptype4\\_txt'\n",
       "\\item 'weapsubtype4'\n",
       "\\item 'weapsubtype4\\_txt'\n",
       "\\item 'weapdetail'\n",
       "\\item 'nkill'\n",
       "\\item 'nkillus'\n",
       "\\item 'nkillter'\n",
       "\\item 'nwound'\n",
       "\\item 'nwoundus'\n",
       "\\item 'nwoundte'\n",
       "\\item 'property'\n",
       "\\item 'propextent'\n",
       "\\item 'propextent\\_txt'\n",
       "\\item 'propvalue'\n",
       "\\item 'propcomment'\n",
       "\\item 'ishostkid'\n",
       "\\item 'nhostkid'\n",
       "\\item 'nhostkidus'\n",
       "\\item 'nhours'\n",
       "\\item 'ndays'\n",
       "\\item 'divert'\n",
       "\\item 'kidhijcountry'\n",
       "\\item 'ransom'\n",
       "\\item 'ransomamt'\n",
       "\\item 'ransomamtus'\n",
       "\\item 'ransompaid'\n",
       "\\item 'ransompaidus'\n",
       "\\item 'ransomnote'\n",
       "\\item 'hostkidoutcome'\n",
       "\\item 'hostkidoutcome\\_txt'\n",
       "\\item 'nreleased'\n",
       "\\item 'addnotes'\n",
       "\\item 'scite1'\n",
       "\\item 'scite2'\n",
       "\\item 'scite3'\n",
       "\\item 'dbsource'\n",
       "\\item 'INT\\_LOG'\n",
       "\\item 'INT\\_IDEO'\n",
       "\\item 'INT\\_MISC'\n",
       "\\item 'INT\\_ANY'\n",
       "\\item 'related'\n",
       "\\item 'date'\n",
       "\\end{enumerate*}\n"
      ],
      "text/markdown": [
       "1. 'eventid'\n",
       "2. 'year'\n",
       "3. 'month'\n",
       "4. 'day'\n",
       "5. 'approxdate'\n",
       "6. 'extended'\n",
       "7. 'resolution'\n",
       "8. 'country_id'\n",
       "9. 'country'\n",
       "10. 'region_id'\n",
       "11. 'region'\n",
       "12. 'provstate'\n",
       "13. 'city'\n",
       "14. 'latitude'\n",
       "15. 'longitude'\n",
       "16. 'specificity'\n",
       "17. 'vicinity'\n",
       "18. 'location'\n",
       "19. 'summary'\n",
       "20. 'crit1'\n",
       "21. 'crit2'\n",
       "22. 'crit3'\n",
       "23. 'doubtterr'\n",
       "24. 'alternative'\n",
       "25. 'alternative_txt'\n",
       "26. 'multiple'\n",
       "27. 'success'\n",
       "28. 'suicide'\n",
       "29. 'attacktype1'\n",
       "30. 'attacktype1_txt'\n",
       "31. 'attacktype2'\n",
       "32. 'attacktype2_txt'\n",
       "33. 'attacktype3'\n",
       "34. 'attacktype3_txt'\n",
       "35. 'targtype1'\n",
       "36. 'targtype1_txt'\n",
       "37. 'targsubtype1'\n",
       "38. 'targsubtype1_txt'\n",
       "39. 'corp1'\n",
       "40. 'target1'\n",
       "41. 'natlty1'\n",
       "42. 'natlty1_txt'\n",
       "43. 'targtype2'\n",
       "44. 'targtype2_txt'\n",
       "45. 'targsubtype2'\n",
       "46. 'targsubtype2_txt'\n",
       "47. 'corp2'\n",
       "48. 'target2'\n",
       "49. 'natlty2'\n",
       "50. 'natlty2_txt'\n",
       "51. 'targtype3'\n",
       "52. 'targtype3_txt'\n",
       "53. 'targsubtype3'\n",
       "54. 'targsubtype3_txt'\n",
       "55. 'corp3'\n",
       "56. 'target3'\n",
       "57. 'natlty3'\n",
       "58. 'natlty3_txt'\n",
       "59. 'gname'\n",
       "60. 'gsubname'\n",
       "61. 'gname2'\n",
       "62. 'gsubname2'\n",
       "63. 'gname3'\n",
       "64. 'gsubname3'\n",
       "65. 'motive'\n",
       "66. 'guncertain1'\n",
       "67. 'guncertain2'\n",
       "68. 'guncertain3'\n",
       "69. 'individual'\n",
       "70. 'nperps'\n",
       "71. 'nperpcap'\n",
       "72. 'claimed'\n",
       "73. 'claimmode'\n",
       "74. 'claimmode_txt'\n",
       "75. 'claim2'\n",
       "76. 'claimmode2'\n",
       "77. 'claimmode2_txt'\n",
       "78. 'claim3'\n",
       "79. 'claimmode3'\n",
       "80. 'claimmode3_txt'\n",
       "81. 'compclaim'\n",
       "82. 'weaptype1'\n",
       "83. 'weaptype1_txt'\n",
       "84. 'weapsubtype1'\n",
       "85. 'weapsubtype1_txt'\n",
       "86. 'weaptype2'\n",
       "87. 'weaptype2_txt'\n",
       "88. 'weapsubtype2'\n",
       "89. 'weapsubtype2_txt'\n",
       "90. 'weaptype3'\n",
       "91. 'weaptype3_txt'\n",
       "92. 'weapsubtype3'\n",
       "93. 'weapsubtype3_txt'\n",
       "94. 'weaptype4'\n",
       "95. 'weaptype4_txt'\n",
       "96. 'weapsubtype4'\n",
       "97. 'weapsubtype4_txt'\n",
       "98. 'weapdetail'\n",
       "99. 'nkill'\n",
       "100. 'nkillus'\n",
       "101. 'nkillter'\n",
       "102. 'nwound'\n",
       "103. 'nwoundus'\n",
       "104. 'nwoundte'\n",
       "105. 'property'\n",
       "106. 'propextent'\n",
       "107. 'propextent_txt'\n",
       "108. 'propvalue'\n",
       "109. 'propcomment'\n",
       "110. 'ishostkid'\n",
       "111. 'nhostkid'\n",
       "112. 'nhostkidus'\n",
       "113. 'nhours'\n",
       "114. 'ndays'\n",
       "115. 'divert'\n",
       "116. 'kidhijcountry'\n",
       "117. 'ransom'\n",
       "118. 'ransomamt'\n",
       "119. 'ransomamtus'\n",
       "120. 'ransompaid'\n",
       "121. 'ransompaidus'\n",
       "122. 'ransomnote'\n",
       "123. 'hostkidoutcome'\n",
       "124. 'hostkidoutcome_txt'\n",
       "125. 'nreleased'\n",
       "126. 'addnotes'\n",
       "127. 'scite1'\n",
       "128. 'scite2'\n",
       "129. 'scite3'\n",
       "130. 'dbsource'\n",
       "131. 'INT_LOG'\n",
       "132. 'INT_IDEO'\n",
       "133. 'INT_MISC'\n",
       "134. 'INT_ANY'\n",
       "135. 'related'\n",
       "136. 'date'\n",
       "\n",
       "\n"
      ],
      "text/plain": [
       "  [1] \"eventid\"            \"year\"               \"month\"             \n",
       "  [4] \"day\"                \"approxdate\"         \"extended\"          \n",
       "  [7] \"resolution\"         \"country_id\"         \"country\"           \n",
       " [10] \"region_id\"          \"region\"             \"provstate\"         \n",
       " [13] \"city\"               \"latitude\"           \"longitude\"         \n",
       " [16] \"specificity\"        \"vicinity\"           \"location\"          \n",
       " [19] \"summary\"            \"crit1\"              \"crit2\"             \n",
       " [22] \"crit3\"              \"doubtterr\"          \"alternative\"       \n",
       " [25] \"alternative_txt\"    \"multiple\"           \"success\"           \n",
       " [28] \"suicide\"            \"attacktype1\"        \"attacktype1_txt\"   \n",
       " [31] \"attacktype2\"        \"attacktype2_txt\"    \"attacktype3\"       \n",
       " [34] \"attacktype3_txt\"    \"targtype1\"          \"targtype1_txt\"     \n",
       " [37] \"targsubtype1\"       \"targsubtype1_txt\"   \"corp1\"             \n",
       " [40] \"target1\"            \"natlty1\"            \"natlty1_txt\"       \n",
       " [43] \"targtype2\"          \"targtype2_txt\"      \"targsubtype2\"      \n",
       " [46] \"targsubtype2_txt\"   \"corp2\"              \"target2\"           \n",
       " [49] \"natlty2\"            \"natlty2_txt\"        \"targtype3\"         \n",
       " [52] \"targtype3_txt\"      \"targsubtype3\"       \"targsubtype3_txt\"  \n",
       " [55] \"corp3\"              \"target3\"            \"natlty3\"           \n",
       " [58] \"natlty3_txt\"        \"gname\"              \"gsubname\"          \n",
       " [61] \"gname2\"             \"gsubname2\"          \"gname3\"            \n",
       " [64] \"gsubname3\"          \"motive\"             \"guncertain1\"       \n",
       " [67] \"guncertain2\"        \"guncertain3\"        \"individual\"        \n",
       " [70] \"nperps\"             \"nperpcap\"           \"claimed\"           \n",
       " [73] \"claimmode\"          \"claimmode_txt\"      \"claim2\"            \n",
       " [76] \"claimmode2\"         \"claimmode2_txt\"     \"claim3\"            \n",
       " [79] \"claimmode3\"         \"claimmode3_txt\"     \"compclaim\"         \n",
       " [82] \"weaptype1\"          \"weaptype1_txt\"      \"weapsubtype1\"      \n",
       " [85] \"weapsubtype1_txt\"   \"weaptype2\"          \"weaptype2_txt\"     \n",
       " [88] \"weapsubtype2\"       \"weapsubtype2_txt\"   \"weaptype3\"         \n",
       " [91] \"weaptype3_txt\"      \"weapsubtype3\"       \"weapsubtype3_txt\"  \n",
       " [94] \"weaptype4\"          \"weaptype4_txt\"      \"weapsubtype4\"      \n",
       " [97] \"weapsubtype4_txt\"   \"weapdetail\"         \"nkill\"             \n",
       "[100] \"nkillus\"            \"nkillter\"           \"nwound\"            \n",
       "[103] \"nwoundus\"           \"nwoundte\"           \"property\"          \n",
       "[106] \"propextent\"         \"propextent_txt\"     \"propvalue\"         \n",
       "[109] \"propcomment\"        \"ishostkid\"          \"nhostkid\"          \n",
       "[112] \"nhostkidus\"         \"nhours\"             \"ndays\"             \n",
       "[115] \"divert\"             \"kidhijcountry\"      \"ransom\"            \n",
       "[118] \"ransomamt\"          \"ransomamtus\"        \"ransompaid\"        \n",
       "[121] \"ransompaidus\"       \"ransomnote\"         \"hostkidoutcome\"    \n",
       "[124] \"hostkidoutcome_txt\" \"nreleased\"          \"addnotes\"          \n",
       "[127] \"scite1\"             \"scite2\"             \"scite3\"            \n",
       "[130] \"dbsource\"           \"INT_LOG\"            \"INT_IDEO\"          \n",
       "[133] \"INT_MISC\"           \"INT_ANY\"            \"related\"           \n",
       "[136] \"date\"              "
      ]
     },
     "metadata": {},
     "output_type": "display_data"
    }
   ],
   "source": [
    "colnames(terror)"
   ]
  },
  {
   "cell_type": "markdown",
   "metadata": {},
   "source": [
    "# EDA (Exploratory Data Analysis)"
   ]
  },
  {
   "cell_type": "code",
   "execution_count": 19,
   "metadata": {
    "scrolled": true
   },
   "outputs": [
    {
     "name": "stderr",
     "output_type": "stream",
     "text": [
      "Warning message in cbind(parts$left, ellip_h, parts$right, deparse.level = 0L):\n",
      "\"number of rows of result is not a multiple of vector length (arg 2)\"Warning message in cbind(parts$left, ellip_h, parts$right, deparse.level = 0L):\n",
      "\"number of rows of result is not a multiple of vector length (arg 2)\"Warning message in cbind(parts$left, ellip_h, parts$right, deparse.level = 0L):\n",
      "\"number of rows of result is not a multiple of vector length (arg 2)\"Warning message in cbind(parts$left, ellip_h, parts$right, deparse.level = 0L):\n",
      "\"number of rows of result is not a multiple of vector length (arg 2)\""
     ]
    },
    {
     "data": {
      "text/html": [
       "<table>\n",
       "<thead><tr><th scope=col>eventid</th><th scope=col>year</th><th scope=col>month</th><th scope=col>day</th><th scope=col>approxdate</th><th scope=col>extended</th><th scope=col>resolution</th><th scope=col>country_id</th><th scope=col>country</th><th scope=col>region_id</th><th scope=col>...</th><th scope=col>scite1</th><th scope=col>scite2</th><th scope=col>scite3</th><th scope=col>dbsource</th><th scope=col>INT_LOG</th><th scope=col>INT_IDEO</th><th scope=col>INT_MISC</th><th scope=col>INT_ANY</th><th scope=col>related</th><th scope=col>date</th></tr></thead>\n",
       "<tbody>\n",
       "</tbody>\n",
       "</table>\n"
      ],
      "text/latex": [
       "\\begin{tabular}{r|llllllllllllllllllllllllllllllllllllllllllllllllllllllllllllllllllllllllllllllllllllllllllllllllllllllllllllllllllllllllllllllllllllllll}\n",
       " eventid & year & month & day & approxdate & extended & resolution & country\\_id & country & region\\_id & ... & scite1 & scite2 & scite3 & dbsource & INT\\_LOG & INT\\_IDEO & INT\\_MISC & INT\\_ANY & related & date\\\\\n",
       "\\hline\n",
       "\\end{tabular}\n"
      ],
      "text/markdown": [
       "\n",
       "eventid | year | month | day | approxdate | extended | resolution | country_id | country | region_id | ... | scite1 | scite2 | scite3 | dbsource | INT_LOG | INT_IDEO | INT_MISC | INT_ANY | related | date | \n",
       "||\n",
       "\n",
       "\n"
      ],
      "text/plain": [
       "     eventid year month day approxdate extended resolution country_id country\n",
       "     region_id ... scite1 scite2 scite3 dbsource INT_LOG INT_IDEO INT_MISC\n",
       "     INT_ANY related date"
      ]
     },
     "metadata": {},
     "output_type": "display_data"
    }
   ],
   "source": [
    "terror %>% filter(year==1993)"
   ]
  },
  {
   "cell_type": "code",
   "execution_count": 20,
   "metadata": {},
   "outputs": [
    {
     "name": "stdout",
     "output_type": "stream",
     "text": [
      "'data.frame':\t181691 obs. of  136 variables:\n",
      " $ eventid           : num  1.97e+11 1.97e+11 1.97e+11 1.97e+11 1.97e+11 ...\n",
      " $ year              : int  1970 1970 1970 1970 1970 1970 1970 1970 1970 1970 ...\n",
      " $ month             : int  7 0 1 1 1 1 1 1 1 1 ...\n",
      " $ day               : int  2 0 0 0 0 1 2 2 2 3 ...\n",
      " $ approxdate        : Factor w/ 2245 levels \"\",\"01/04/2000\",..: 1 1 1 1 1 1 1 1 1 1 ...\n",
      " $ extended          : int  0 0 0 0 0 0 0 0 0 0 ...\n",
      " $ resolution        : Factor w/ 1860 levels \"\",\"1/1/1978\",..: 1 1 1 1 1 1 1 1 1 1 ...\n",
      " $ country_id        : int  58 130 160 78 101 217 218 217 217 217 ...\n",
      " $ country           : Factor w/ 205 levels \"Afghanistan\",..: 48 117 141 69 91 190 191 190 190 190 ...\n",
      " $ region_id         : int  2 1 5 8 4 1 3 1 1 1 ...\n",
      " $ region            : Factor w/ 12 levels \"Australasia & Oceania\",..: 2 7 10 12 4 7 8 7 7 7 ...\n",
      " $ provstate         : Factor w/ 2856 levels \"\",\"(Region) of Republican Subordination (Province)\",..: 1 784 2505 188 810 1016 1648 441 2766 2766 ...\n",
      " $ city              : Factor w/ 36675 levels \"\",\"62 miles South of Dushanbe\",..: 29944 22265 34673 2533 11312 6349 22807 24828 20416 20416 ...\n",
      " $ latitude          : num  18.5 19.4 15.5 38 33.6 ...\n",
      " $ longitude         : num  -70 -99.1 120.6 23.8 130.4 ...\n",
      " $ specificity       : int  1 1 4 1 1 1 1 1 1 1 ...\n",
      " $ vicinity          : int  0 0 0 0 0 0 0 0 0 0 ...\n",
      " $ location          : Factor w/ 44110 levels \"\",\"\\\"Colony 39\\\" settlement in uncleared areas of Ampara district, in eastern Sri Lanka\",..: 1 1 1 1 1 1 1 3743 1 1 ...\n",
      " $ summary           : Factor w/ 112493 levels \"\",\"00/00/2014: Sometime between February 23 and March 1, 2014, assailants attacked the 115th Infantry Brigade in L\"| __truncated__,..: 1 1 1 1 1 82767 1 82870 82869 82949 ...\n",
      " $ crit1             : int  1 1 1 1 1 1 1 1 1 1 ...\n",
      " $ crit2             : int  1 1 1 1 1 1 1 1 1 1 ...\n",
      " $ crit3             : int  1 1 1 1 1 1 1 1 1 1 ...\n",
      " $ doubtterr         : int  0 0 0 0 -9 0 0 1 0 0 ...\n",
      " $ alternative       : int  NA NA NA NA NA NA NA 2 NA NA ...\n",
      " $ alternative_txt   : Factor w/ 6 levels \"\",\"Insurgency/Guerilla Action\",..: 1 1 1 1 1 1 1 5 1 1 ...\n",
      " $ multiple          : int  0 0 0 0 0 0 0 0 0 0 ...\n",
      " $ success           : int  1 1 1 1 1 1 0 1 1 1 ...\n",
      " $ suicide           : int  0 0 0 0 0 0 0 0 0 0 ...\n",
      " $ attacktype1       : int  1 6 1 3 7 2 1 3 7 7 ...\n",
      " $ attacktype1_txt   : Factor w/ 9 levels \"Armed Assault\",..: 2 7 2 3 4 1 2 3 4 4 ...\n",
      " $ attacktype2       : int  NA NA NA NA NA NA NA NA NA NA ...\n",
      " $ attacktype2_txt   : Factor w/ 10 levels \"\",\"Armed Assault\",..: 1 1 1 1 1 1 1 1 1 1 ...\n",
      " $ attacktype3       : int  NA NA NA NA NA NA NA NA NA NA ...\n",
      " $ attacktype3_txt   : Factor w/ 9 levels \"\",\"Armed Assault\",..: 1 1 1 1 1 1 1 1 1 1 ...\n",
      " $ targtype1         : int  14 7 10 7 7 3 3 21 4 2 ...\n",
      " $ targtype1_txt     : Factor w/ 22 levels \"Abortion Related\",..: 14 6 8 6 6 13 13 21 10 7 ...\n",
      " $ targsubtype1      : int  68 45 54 46 46 22 25 107 28 21 ...\n",
      " $ targsubtype1_txt  : Factor w/ 113 levels \"\",\"Affiliated Institution\",..: 60 17 89 21 21 75 78 20 52 29 ...\n",
      " $ corp1             : Factor w/ 33241 levels \"\",\"'Adayah Sector\",..: 1 4451 32419 1 1 5454 31976 22914 25208 27187 ...\n",
      " $ target1           : Factor w/ 86008 levels \"\",\"'Add al-Fattah Isma'il, secretery general\",..: 42245 50785 28617 80408 80382 16055 42032 27456 60433 65946 ...\n",
      " $ natlty1           : int  58 21 217 217 217 217 218 217 217 217 ...\n",
      " $ natlty1_txt       : Factor w/ 216 levels \"\",\"Afghanistan\",..: 52 18 201 201 201 201 202 201 201 201 ...\n",
      " $ targtype2         : int  NA NA NA NA NA NA NA NA NA NA ...\n",
      " $ targtype2_txt     : Factor w/ 23 levels \"\",\"Abortion Related\",..: 1 1 1 1 1 1 1 1 1 1 ...\n",
      " $ targsubtype2      : int  NA NA NA NA NA NA NA NA NA NA ...\n",
      " $ targsubtype2_txt  : Factor w/ 108 levels \"\",\"Affiliated Institution\",..: 1 1 1 1 1 1 1 1 1 1 ...\n",
      " $ corp2             : Factor w/ 2692 levels \"\",\"\\\"L'evenement Du Jeudi\\\", a magazine\",..: 1 1 1 1 1 1 1 1 1 1 ...\n",
      " $ target2           : Factor w/ 5044 levels \"\",\"(District) Survey Office\",..: 1 1 1 1 1 1 1 1 1 1 ...\n",
      " $ natlty2           : int  NA NA NA NA NA NA NA NA NA NA ...\n",
      " $ natlty2_txt       : Factor w/ 159 levels \"\",\"Afghanistan\",..: 1 1 1 1 1 1 1 1 1 1 ...\n",
      " $ targtype3         : int  NA NA NA NA NA NA NA NA NA NA ...\n",
      " $ targtype3_txt     : Factor w/ 21 levels \"\",\"Airports & Aircraft\",..: 1 1 1 1 1 1 1 1 1 1 ...\n",
      " $ targsubtype3      : int  NA NA NA NA NA NA NA NA NA NA ...\n",
      " $ targsubtype3_txt  : Factor w/ 93 levels \"\",\"Affiliated Institution\",..: 1 1 1 1 1 1 1 1 1 1 ...\n",
      " $ corp3             : Factor w/ 423 levels \"\",\"A bus terminal\",..: 1 1 1 1 1 1 1 1 1 1 ...\n",
      " $ target3           : Factor w/ 721 levels \"\",\"(District) Prison\",..: 1 1 1 1 1 1 1 1 1 1 ...\n",
      " $ natlty3           : int  NA NA NA NA NA NA NA NA NA NA ...\n",
      " $ natlty3_txt       : Factor w/ 111 levels \"\",\"Afghanistan\",..: 1 1 1 1 1 1 1 1 1 1 ...\n",
      " $ gname             : Factor w/ 3537 levels \"1 May\",\"14 K Triad\",..: 1952 14 3410 3410 3410 682 3282 3410 2273 2273 ...\n",
      " $ gsubname          : Factor w/ 1184 levels \"\",\"103rd Base Command\",..: 1 1 1 1 1 1 1 1 1 1 ...\n",
      " $ gname2            : Factor w/ 434 levels \"\",\"1 May\",\"8 March Coalition\",..: 1 1 1 1 1 1 1 1 1 1 ...\n",
      " $ gsubname2         : Factor w/ 61 levels \"\",\"101st Battalion\",..: 1 1 1 1 1 1 1 1 1 1 ...\n",
      " $ gname3            : Factor w/ 117 levels \"\",\"313 Brigade\",..: 1 1 1 1 1 1 1 1 1 1 ...\n",
      " $ gsubname3         : Factor w/ 15 levels \"\",\"Ahrar al-Sham\",..: 1 1 1 1 1 1 1 1 1 1 ...\n",
      " $ motive            : Factor w/ 14491 levels \"\",\"\\\"Disgruntled tribesmen have frequently targeted the pipeline in the past few years to try to force the governm\"| __truncated__,..: 1 1 1 1 1 14016 1 1 14149 14149 ...\n",
      " $ guncertain1       : int  0 0 0 0 0 0 0 0 0 0 ...\n",
      " $ guncertain2       : int  NA NA NA NA NA NA NA NA NA NA ...\n",
      " $ guncertain3       : int  NA NA NA NA NA NA NA NA NA NA ...\n",
      " $ individual        : int  0 0 0 0 0 0 0 0 0 0 ...\n",
      " $ nperps            : int  NA 7 NA NA NA -99 3 -99 1 1 ...\n",
      " $ nperpcap          : num  NA NA NA NA NA -99 NA -99 1 1 ...\n",
      " $ claimed           : int  NA NA NA NA NA 0 NA 0 1 0 ...\n",
      " $ claimmode         : int  NA NA NA NA NA NA NA NA 1 NA ...\n",
      " $ claimmode_txt     : Factor w/ 11 levels \"\",\"Call (post-incident)\",..: 1 1 1 1 1 1 1 1 5 1 ...\n",
      " $ claim2            : int  NA NA NA NA NA NA NA NA NA NA ...\n",
      " $ claimmode2        : int  NA NA NA NA NA NA NA NA NA NA ...\n",
      " $ claimmode2_txt    : Factor w/ 10 levels \"\",\"Call (post-incident)\",..: 1 1 1 1 1 1 1 1 1 1 ...\n",
      " $ claim3            : int  NA NA NA NA NA NA NA NA NA NA ...\n",
      " $ claimmode3        : int  NA NA NA NA NA NA NA NA NA NA ...\n",
      " $ claimmode3_txt    : Factor w/ 9 levels \"\",\"Call (post-incident)\",..: 1 1 1 1 1 1 1 1 1 1 ...\n",
      " $ compclaim         : int  NA NA NA NA NA NA NA NA NA NA ...\n",
      " $ weaptype1         : int  13 13 13 6 8 5 5 6 8 8 ...\n",
      " $ weaptype1_txt     : Factor w/ 12 levels \"Biological\",\"Chemical\",..: 11 11 11 3 6 5 5 3 6 6 ...\n",
      " $ weapsubtype1      : int  NA NA NA 16 NA 5 2 16 19 20 ...\n",
      " $ weapsubtype1_txt  : Factor w/ 31 levels \"\",\"Arson/Fire\",..: 1 1 1 28 1 29 3 28 14 7 ...\n",
      " $ weaptype2         : int  NA NA NA NA NA NA NA NA NA NA ...\n",
      " $ weaptype2_txt     : Factor w/ 12 levels \"\",\"Biological\",..: 1 1 1 1 1 1 1 1 1 1 ...\n",
      " $ weapsubtype2      : int  NA NA NA NA NA NA NA NA NA NA ...\n",
      " $ weapsubtype2_txt  : Factor w/ 29 levels \"\",\"Arson/Fire\",..: 1 1 1 1 1 1 1 1 1 1 ...\n",
      " $ weaptype3         : int  NA NA NA NA NA NA NA NA NA NA ...\n",
      " $ weaptype3_txt     : Factor w/ 11 levels \"\",\"Chemical\",..: 1 1 1 1 1 1 1 1 1 1 ...\n",
      " $ weapsubtype3      : int  NA NA NA NA NA NA NA NA NA NA ...\n",
      " $ weapsubtype3_txt  : Factor w/ 23 levels \"\",\"Arson/Fire\",..: 1 1 1 1 1 1 1 1 1 1 ...\n",
      " $ weaptype4         : int  NA NA NA NA NA NA NA NA NA NA ...\n",
      " $ weaptype4_txt     : Factor w/ 6 levels \"\",\"Explosives\",..: 1 1 1 1 1 1 1 1 1 1 ...\n",
      " $ weapsubtype4      : int  NA NA NA NA NA NA NA NA NA NA ...\n",
      " $ weapsubtype4_txt  : Factor w/ 17 levels \"\",\"Arson/Fire\",..: 1 1 1 1 1 1 1 1 1 1 ...\n",
      " $ weapdetail        : Factor w/ 19149 levels \"\",\"\\\"A magnetic explosive device\\\"\",..: 1 1 1 9899 11843 14591 8798 1 10602 13763 ...\n",
      " $ nkill             : int  1 0 1 NA NA 0 0 0 0 0 ...\n",
      "  [list output truncated]\n"
     ]
    }
   ],
   "source": [
    "str(terror)"
   ]
  },
  {
   "cell_type": "code",
   "execution_count": 30,
   "metadata": {},
   "outputs": [],
   "source": [
    "terror_after_2001 <- terror %>% filter(year >= 2001)"
   ]
  },
  {
   "cell_type": "markdown",
   "metadata": {},
   "source": [
    "## Attacks per month and region"
   ]
  },
  {
   "cell_type": "code",
   "execution_count": 38,
   "metadata": {
    "scrolled": false
   },
   "outputs": [
    {
     "data": {
      "text/html": [
       "<table>\n",
       "<thead><tr><th scope=col>month</th><th scope=col>n</th></tr></thead>\n",
       "<tbody>\n",
       "\t<tr><td>2001-01-01</td><td>161       </td></tr>\n",
       "\t<tr><td>2001-02-01</td><td>129       </td></tr>\n",
       "\t<tr><td>2001-03-01</td><td>165       </td></tr>\n",
       "\t<tr><td>2001-04-01</td><td>117       </td></tr>\n",
       "\t<tr><td>2001-05-01</td><td> 98       </td></tr>\n",
       "\t<tr><td>2001-06-01</td><td> 80       </td></tr>\n",
       "</tbody>\n",
       "</table>\n"
      ],
      "text/latex": [
       "\\begin{tabular}{r|ll}\n",
       " month & n\\\\\n",
       "\\hline\n",
       "\t 2001-01-01 & 161       \\\\\n",
       "\t 2001-02-01 & 129       \\\\\n",
       "\t 2001-03-01 & 165       \\\\\n",
       "\t 2001-04-01 & 117       \\\\\n",
       "\t 2001-05-01 &  98       \\\\\n",
       "\t 2001-06-01 &  80       \\\\\n",
       "\\end{tabular}\n"
      ],
      "text/markdown": [
       "\n",
       "month | n | \n",
       "|---|---|---|---|---|---|\n",
       "| 2001-01-01 | 161        | \n",
       "| 2001-02-01 | 129        | \n",
       "| 2001-03-01 | 165        | \n",
       "| 2001-04-01 | 117        | \n",
       "| 2001-05-01 |  98        | \n",
       "| 2001-06-01 |  80        | \n",
       "\n",
       "\n"
      ],
      "text/plain": [
       "  month      n  \n",
       "1 2001-01-01 161\n",
       "2 2001-02-01 129\n",
       "3 2001-03-01 165\n",
       "4 2001-04-01 117\n",
       "5 2001-05-01  98\n",
       "6 2001-06-01  80"
      ]
     },
     "metadata": {},
     "output_type": "display_data"
    },
    {
     "name": "stderr",
     "output_type": "stream",
     "text": [
      "Warning message:\n",
      "\"Removed 215 rows containing non-finite values (stat_count).\""
     ]
    },
    {
     "data": {},
     "metadata": {},
     "output_type": "display_data"
    },
    {
     "data": {
      "image/png": "[encoded data removed]",
      "text/plain": [
       "plot without title"
      ]
     },
     "metadata": {},
     "output_type": "display_data"
    }
   ],
   "source": [
    "daily_terror <- terror_after_2001 %>% group_by(date) %>% summarize(n = n())\n",
    "monthly_terror <- daily_terror %>% group_by(month = floor_date(date, \"month\")) %>% \n",
    "  summarize(n = sum(n))\n",
    "\n",
    "head(monthly_terror)\n",
    "\n",
    "terror_after_2001 %>% group_by(month = floor_date(date, \"month\")) %>% ggplot(aes(month, fill=region)) + geom_bar()"
   ]
  },
  {
   "cell_type": "markdown",
   "metadata": {},
   "source": [
    "## Attacks per region with Attack-Type"
   ]
  },
  {
   "cell_type": "markdown",
   "metadata": {},
   "source": [
    "### Attacks per year and region (filter: only 'Middle East & North Africa' and 'South Asia')"
   ]
  },
  {
   "cell_type": "code",
   "execution_count": 34,
   "metadata": {},
   "outputs": [
    {
     "name": "stderr",
     "output_type": "stream",
     "text": [
      "Warning message:\n",
      "\"Removed 119 rows containing non-finite values (stat_count).\""
     ]
    },
    {
     "data": {},
     "metadata": {},
     "output_type": "display_data"
    },
    {
     "data": {
      "image/png": "[encoded data removed]",
      "text/plain": [
       "plot without title"
      ]
     },
     "metadata": {},
     "output_type": "display_data"
    }
   ],
   "source": [
    "terror_me_na = terror_after_2001 %>% filter(region %in% c('Middle East & North Africa', 'South Asia'))\n",
    "terror_me_na %>% group_by(month = floor_date(date, \"month\")) %>% ggplot(aes(month, fill=region)) + geom_bar()"
   ]
  },
  {
   "cell_type": "code",
   "execution_count": 35,
   "metadata": {},
   "outputs": [
    {
     "data": {},
     "metadata": {},
     "output_type": "display_data"
    },
    {
     "data": {
      "image/png": "[encoded data removed]",
      "text/plain": [
       "plot without title"
      ]
     },
     "metadata": {},
     "output_type": "display_data"
    }
   ],
   "source": [
    "ggplot(terror_after_2001, aes(region)) + geom_bar(aes(fill=attacktype1_txt)) + coord_flip()"
   ]
  },
  {
   "cell_type": "markdown",
   "metadata": {},
   "source": [
    "### Attacktype per month"
   ]
  },
  {
   "cell_type": "code",
   "execution_count": 39,
   "metadata": {},
   "outputs": [
    {
     "name": "stderr",
     "output_type": "stream",
     "text": [
      "Warning message:\n",
      "\"Removed 119 rows containing non-finite values (stat_count).\""
     ]
    },
    {
     "data": {},
     "metadata": {},
     "output_type": "display_data"
    },
    {
     "data": {
      "image/png": "[encoded data removed]",
      "text/plain": [
       "plot without title"
      ]
     },
     "metadata": {},
     "output_type": "display_data"
    }
   ],
   "source": [
    "terror_me_na %>% group_by(month = floor_date(date, \"month\")) %>% ggplot(aes(month, fill=attacktype1_txt)) + geom_bar()"
   ]
  },
  {
   "cell_type": "markdown",
   "metadata": {},
   "source": [
    "## Terror attacks from ISIL and Taliban"
   ]
  },
  {
   "cell_type": "code",
   "execution_count": 40,
   "metadata": {},
   "outputs": [],
   "source": [
    "terror_isil_taliban <- terror_after_2001 %>% filter(gname %in% c('Islamic State of Iraq and the Levant (ISIL)', 'Taliban'))"
   ]
  },
  {
   "cell_type": "code",
   "execution_count": 41,
   "metadata": {
    "scrolled": true
   },
   "outputs": [
    {
     "data": {
      "text/html": [
       "<table>\n",
       "<thead><tr><th scope=col>eventid</th><th scope=col>year</th><th scope=col>month</th><th scope=col>day</th><th scope=col>approxdate</th><th scope=col>extended</th><th scope=col>resolution</th><th scope=col>country_id</th><th scope=col>country</th><th scope=col>region_id</th><th scope=col>...</th><th scope=col>scite1</th><th scope=col>scite2</th><th scope=col>scite3</th><th scope=col>dbsource</th><th scope=col>INT_LOG</th><th scope=col>INT_IDEO</th><th scope=col>INT_MISC</th><th scope=col>INT_ANY</th><th scope=col>related</th><th scope=col>date</th></tr></thead>\n",
       "<tbody>\n",
       "\t<tr><td>200101070007                                                                                                                    </td><td>2001                                                                                                                            </td><td>1                                                                                                                               </td><td> 7                                                                                                                              </td><td>                                                                                                                                </td><td>1                                                                                                                               </td><td>1/10/2001                                                                                                                       </td><td>4                                                                                                                               </td><td>Afghanistan                                                                                                                     </td><td>6                                                                                                                               </td><td>...                                                                                                                             </td><td>\"Taliban recapture central Afghan district,\" Agence France-Presse, January 8, 2001.                                             </td><td>\"Taleban killed hundreds of Afghans - reports,\" Reuters, February 19, 2001.                                                     </td><td>\"Afghanistan - Taleban accused of mass killing,\" Pakistan Press International, February 19, 2001.                               </td><td>UMD Schmid 2012                                                                                                                 </td><td>0                                                                                                                               </td><td>0                                                                                                                               </td><td>0                                                                                                                               </td><td>0                                                                                                                               </td><td>                                                                                                                                </td><td>2001-01-07                                                                                                                      </td></tr>\n",
       "\t<tr><td>200108170016                                                                                                                    </td><td>2001                                                                                                                            </td><td>8                                                                                                                               </td><td>17                                                                                                                              </td><td>                                                                                                                                </td><td>0                                                                                                                               </td><td>                                                                                                                                </td><td>4                                                                                                                               </td><td>Afghanistan                                                                                                                     </td><td>6                                                                                                                               </td><td>...                                                                                                                             </td><td>“Mashhad radio: Taleban attack displaced people in central Afghanistan,” Voice of the Islamic Republic of Iran, August 18, 2001.</td><td>“Taliban set 400 farmers' tents on fire, steal cattle,\" IRNA, August 17, 2001.                                                  </td><td>                                                                                                                                </td><td>CETIS                                                                                                                           </td><td>0                                                                                                                               </td><td>0                                                                                                                               </td><td>0                                                                                                                               </td><td>0                                                                                                                               </td><td>                                                                                                                                </td><td>2001-08-17                                                                                                                      </td></tr>\n",
       "\t<tr><td>200109100001                                                                                                                    </td><td>2001                                                                                                                            </td><td>9                                                                                                                               </td><td>10                                                                                                                              </td><td>                                                                                                                                </td><td>0                                                                                                                               </td><td>                                                                                                                                </td><td>4                                                                                                                               </td><td>Afghanistan                                                                                                                     </td><td>6                                                                                                                               </td><td>...                                                                                                                             </td><td>Luke Harding, “Afghan Rebel Leader Blown Up in Assassination Attempt,” The Guardian, September 11, 2001.                        </td><td>\"Camera Bomb Injures Leader,” The Herald Sun, September 10, 2001.                                                               </td><td>                                                                                                                                </td><td>CETIS                                                                                                                           </td><td>0                                                                                                                               </td><td>0                                                                                                                               </td><td>0                                                                                                                               </td><td>0                                                                                                                               </td><td>                                                                                                                                </td><td>2001-09-10                                                                                                                      </td></tr>\n",
       "\t<tr><td>200109260002                                                                                                                    </td><td>2001                                                                                                                            </td><td>9                                                                                                                               </td><td>26                                                                                                                              </td><td>                                                                                                                                </td><td>0                                                                                                                               </td><td>                                                                                                                                </td><td>4                                                                                                                               </td><td>Afghanistan                                                                                                                     </td><td>6                                                                                                                               </td><td>...                                                                                                                             </td><td>\"Kabul Embassy Building Torched; NATO Meets on Terror,” Agence France Presse, September 26, 2001.                               </td><td>\"Kabul Embassy Attacked, Taliban Say US Strike Threat Recedes,” Agence France Presse, September 26, 2001.                       </td><td>\"US Embassy Compound Ablaze,” Hobart Mercury, September 27, 2001.                                                               </td><td>CETIS                                                                                                                           </td><td>0                                                                                                                               </td><td>1                                                                                                                               </td><td>1                                                                                                                               </td><td>1                                                                                                                               </td><td>                                                                                                                                </td><td>2001-09-26                                                                                                                      </td></tr>\n",
       "\t<tr><td>200204130003                                                                                                                    </td><td>2002                                                                                                                            </td><td>4                                                                                                                               </td><td>13                                                                                                                              </td><td>                                                                                                                                </td><td>0                                                                                                                               </td><td>                                                                                                                                </td><td>4                                                                                                                               </td><td>Afghanistan                                                                                                                     </td><td>6                                                                                                                               </td><td>...                                                                                                                             </td><td>Alexandre Peyrille, \"US troops attacked in Afghanistan, expect more clashes,\" Agence France Press, 04/15/2002.                  </td><td>Michelle Boorstein, \"US-led forces kill 'terrorists' as new battles erupt in Afghanistan,\" The Scotsman, 04/15/2002.            </td><td>Michelle Boorstein, \"US troops shot at,\" The Gazette, 04/15/2002.                                                               </td><td>CETIS                                                                                                                           </td><td>0                                                                                                                               </td><td>1                                                                                                                               </td><td>1                                                                                                                               </td><td>1                                                                                                                               </td><td>                                                                                                                                </td><td>2002-04-13                                                                                                                      </td></tr>\n",
       "\t<tr><td>200205020001                                                                                                                    </td><td>2002                                                                                                                            </td><td>5                                                                                                                               </td><td> 2                                                                                                                              </td><td>                                                                                                                                </td><td>0                                                                                                                               </td><td>                                                                                                                                </td><td>4                                                                                                                               </td><td>Afghanistan                                                                                                                     </td><td>6                                                                                                                               </td><td>...                                                                                                                             </td><td>\"Afghanistan: Four Civilians Injured in Missile Attack on Khost Airport,” Peshawar Afghan Islamic Press in Pashto, May 2, 2002. </td><td>Sergei Artemiev, “US troops in Afghanistan Brought Under Missile Fire,” ITAR-TASS News Agency, May 3, 2002.                     </td><td>Alex Spillius, “Bin Laden's Men Fire Two Rockets at British Base,” The Daily Telegraph, May 3, 2002                             </td><td>CETIS                                                                                                                           </td><td>0                                                                                                                               </td><td>1                                                                                                                               </td><td>1                                                                                                                               </td><td>1                                                                                                                               </td><td>                                                                                                                                </td><td>2002-05-02                                                                                                                      </td></tr>\n",
       "</tbody>\n",
       "</table>\n"
      ],
      "text/latex": [
       "\\begin{tabular}{r|llllllllllllllllllllllllllllllllllllllllllllllllllllllllllllllllllllllllllllllllllllllllllllllllllllllllllllllllllllllllllllllllllllllll}\n",
       " eventid & year & month & day & approxdate & extended & resolution & country\\_id & country & region\\_id & ... & scite1 & scite2 & scite3 & dbsource & INT\\_LOG & INT\\_IDEO & INT\\_MISC & INT\\_ANY & related & date\\\\\n",
       "\\hline\n",
       "\t 200101070007                                                                                                                     & 2001                                                                                                                             & 1                                                                                                                                &  7                                                                                                                               &                                                                                                                                  & 1                                                                                                                                & 1/10/2001                                                                                                                        & 4                                                                                                                                & Afghanistan                                                                                                                      & 6                                                                                                                                & ...                                                                                                                              & \"Taliban recapture central Afghan district,\" Agence France-Presse, January 8, 2001.                                              & \"Taleban killed hundreds of Afghans - reports,\" Reuters, February 19, 2001.                                                      & \"Afghanistan - Taleban accused of mass killing,\" Pakistan Press International, February 19, 2001.                                & UMD Schmid 2012                                                                                                                  & 0                                                                                                                                & 0                                                                                                                                & 0                                                                                                                                & 0                                                                                                                                &                                                                                                                                  & 2001-01-07                                                                                                                      \\\\\n",
       "\t 200108170016                                                                                                                     & 2001                                                                                                                             & 8                                                                                                                                & 17                                                                                                                               &                                                                                                                                  & 0                                                                                                                                &                                                                                                                                  & 4                                                                                                                                & Afghanistan                                                                                                                      & 6                                                                                                                                & ...                                                                                                                              & “Mashhad radio: Taleban attack displaced people in central Afghanistan,” Voice of the Islamic Republic of Iran, August 18, 2001. & “Taliban set 400 farmers' tents on fire, steal cattle,\" IRNA, August 17, 2001.                                                   &                                                                                                                                  & CETIS                                                                                                                            & 0                                                                                                                                & 0                                                                                                                                & 0                                                                                                                                & 0                                                                                                                                &                                                                                                                                  & 2001-08-17                                                                                                                      \\\\\n",
       "\t 200109100001                                                                                                                     & 2001                                                                                                                             & 9                                                                                                                                & 10                                                                                                                               &                                                                                                                                  & 0                                                                                                                                &                                                                                                                                  & 4                                                                                                                                & Afghanistan                                                                                                                      & 6                                                                                                                                & ...                                                                                                                              & Luke Harding, “Afghan Rebel Leader Blown Up in Assassination Attempt,” The Guardian, September 11, 2001.                         & \"Camera Bomb Injures Leader,” The Herald Sun, September 10, 2001.                                                                &                                                                                                                                  & CETIS                                                                                                                            & 0                                                                                                                                & 0                                                                                                                                & 0                                                                                                                                & 0                                                                                                                                &                                                                                                                                  & 2001-09-10                                                                                                                      \\\\\n",
       "\t 200109260002                                                                                                                     & 2001                                                                                                                             & 9                                                                                                                                & 26                                                                                                                               &                                                                                                                                  & 0                                                                                                                                &                                                                                                                                  & 4                                                                                                                                & Afghanistan                                                                                                                      & 6                                                                                                                                & ...                                                                                                                              & \"Kabul Embassy Building Torched; NATO Meets on Terror,” Agence France Presse, September 26, 2001.                                & \"Kabul Embassy Attacked, Taliban Say US Strike Threat Recedes,” Agence France Presse, September 26, 2001.                        & \"US Embassy Compound Ablaze,” Hobart Mercury, September 27, 2001.                                                                & CETIS                                                                                                                            & 0                                                                                                                                & 1                                                                                                                                & 1                                                                                                                                & 1                                                                                                                                &                                                                                                                                  & 2001-09-26                                                                                                                      \\\\\n",
       "\t 200204130003                                                                                                                     & 2002                                                                                                                             & 4                                                                                                                                & 13                                                                                                                               &                                                                                                                                  & 0                                                                                                                                &                                                                                                                                  & 4                                                                                                                                & Afghanistan                                                                                                                      & 6                                                                                                                                & ...                                                                                                                              & Alexandre Peyrille, \"US troops attacked in Afghanistan, expect more clashes,\" Agence France Press, 04/15/2002.                   & Michelle Boorstein, \"US-led forces kill 'terrorists' as new battles erupt in Afghanistan,\" The Scotsman, 04/15/2002.             & Michelle Boorstein, \"US troops shot at,\" The Gazette, 04/15/2002.                                                                & CETIS                                                                                                                            & 0                                                                                                                                & 1                                                                                                                                & 1                                                                                                                                & 1                                                                                                                                &                                                                                                                                  & 2002-04-13                                                                                                                      \\\\\n",
       "\t 200205020001                                                                                                                     & 2002                                                                                                                             & 5                                                                                                                                &  2                                                                                                                               &                                                                                                                                  & 0                                                                                                                                &                                                                                                                                  & 4                                                                                                                                & Afghanistan                                                                                                                      & 6                                                                                                                                & ...                                                                                                                              & \"Afghanistan: Four Civilians Injured in Missile Attack on Khost Airport,” Peshawar Afghan Islamic Press in Pashto, May 2, 2002.  & Sergei Artemiev, “US troops in Afghanistan Brought Under Missile Fire,” ITAR-TASS News Agency, May 3, 2002.                      & Alex Spillius, “Bin Laden's Men Fire Two Rockets at British Base,” The Daily Telegraph, May 3, 2002                              & CETIS                                                                                                                            & 0                                                                                                                                & 1                                                                                                                                & 1                                                                                                                                & 1                                                                                                                                &                                                                                                                                  & 2002-05-02                                                                                                                      \\\\\n",
       "\\end{tabular}\n"
      ],
      "text/markdown": [
       "\n",
       "eventid | year | month | day | approxdate | extended | resolution | country_id | country | region_id | ... | scite1 | scite2 | scite3 | dbsource | INT_LOG | INT_IDEO | INT_MISC | INT_ANY | related | date | \n",
       "|---|---|---|---|---|---|\n",
       "| 200101070007                                                                                                                     | 2001                                                                                                                             | 1                                                                                                                                |  7                                                                                                                               |                                                                                                                                  | 1                                                                                                                                | 1/10/2001                                                                                                                        | 4                                                                                                                                | Afghanistan                                                                                                                      | 6                                                                                                                                | ...                                                                                                                              | \"Taliban recapture central Afghan district,\" Agence France-Presse, January 8, 2001.                                              | \"Taleban killed hundreds of Afghans - reports,\" Reuters, February 19, 2001.                                                      | \"Afghanistan - Taleban accused of mass killing,\" Pakistan Press International, February 19, 2001.                                | UMD Schmid 2012                                                                                                                  | 0                                                                                                                                | 0                                                                                                                                | 0                                                                                                                                | 0                                                                                                                                |                                                                                                                                  | 2001-01-07                                                                                                                       | \n",
       "| 200108170016                                                                                                                     | 2001                                                                                                                             | 8                                                                                                                                | 17                                                                                                                               |                                                                                                                                  | 0                                                                                                                                |                                                                                                                                  | 4                                                                                                                                | Afghanistan                                                                                                                      | 6                                                                                                                                | ...                                                                                                                              | “Mashhad radio: Taleban attack displaced people in central Afghanistan,” Voice of the Islamic Republic of Iran, August 18, 2001. | “Taliban set 400 farmers' tents on fire, steal cattle,\" IRNA, August 17, 2001.                                                   |                                                                                                                                  | CETIS                                                                                                                            | 0                                                                                                                                | 0                                                                                                                                | 0                                                                                                                                | 0                                                                                                                                |                                                                                                                                  | 2001-08-17                                                                                                                       | \n",
       "| 200109100001                                                                                                                     | 2001                                                                                                                             | 9                                                                                                                                | 10                                                                                                                               |                                                                                                                                  | 0                                                                                                                                |                                                                                                                                  | 4                                                                                                                                | Afghanistan                                                                                                                      | 6                                                                                                                                | ...                                                                                                                              | Luke Harding, “Afghan Rebel Leader Blown Up in Assassination Attempt,” The Guardian, September 11, 2001.                         | \"Camera Bomb Injures Leader,” The Herald Sun, September 10, 2001.                                                                |                                                                                                                                  | CETIS                                                                                                                            | 0                                                                                                                                | 0                                                                                                                                | 0                                                                                                                                | 0                                                                                                                                |                                                                                                                                  | 2001-09-10                                                                                                                       | \n",
       "| 200109260002                                                                                                                     | 2001                                                                                                                             | 9                                                                                                                                | 26                                                                                                                               |                                                                                                                                  | 0                                                                                                                                |                                                                                                                                  | 4                                                                                                                                | Afghanistan                                                                                                                      | 6                                                                                                                                | ...                                                                                                                              | \"Kabul Embassy Building Torched; NATO Meets on Terror,” Agence France Presse, September 26, 2001.                                | \"Kabul Embassy Attacked, Taliban Say US Strike Threat Recedes,” Agence France Presse, September 26, 2001.                        | \"US Embassy Compound Ablaze,” Hobart Mercury, September 27, 2001.                                                                | CETIS                                                                                                                            | 0                                                                                                                                | 1                                                                                                                                | 1                                                                                                                                | 1                                                                                                                                |                                                                                                                                  | 2001-09-26                                                                                                                       | \n",
       "| 200204130003                                                                                                                     | 2002                                                                                                                             | 4                                                                                                                                | 13                                                                                                                               |                                                                                                                                  | 0                                                                                                                                |                                                                                                                                  | 4                                                                                                                                | Afghanistan                                                                                                                      | 6                                                                                                                                | ...                                                                                                                              | Alexandre Peyrille, \"US troops attacked in Afghanistan, expect more clashes,\" Agence France Press, 04/15/2002.                   | Michelle Boorstein, \"US-led forces kill 'terrorists' as new battles erupt in Afghanistan,\" The Scotsman, 04/15/2002.             | Michelle Boorstein, \"US troops shot at,\" The Gazette, 04/15/2002.                                                                | CETIS                                                                                                                            | 0                                                                                                                                | 1                                                                                                                                | 1                                                                                                                                | 1                                                                                                                                |                                                                                                                                  | 2002-04-13                                                                                                                       | \n",
       "| 200205020001                                                                                                                     | 2002                                                                                                                             | 5                                                                                                                                |  2                                                                                                                               |                                                                                                                                  | 0                                                                                                                                |                                                                                                                                  | 4                                                                                                                                | Afghanistan                                                                                                                      | 6                                                                                                                                | ...                                                                                                                              | \"Afghanistan: Four Civilians Injured in Missile Attack on Khost Airport,” Peshawar Afghan Islamic Press in Pashto, May 2, 2002.  | Sergei Artemiev, “US troops in Afghanistan Brought Under Missile Fire,” ITAR-TASS News Agency, May 3, 2002.                      | Alex Spillius, “Bin Laden's Men Fire Two Rockets at British Base,” The Daily Telegraph, May 3, 2002                              | CETIS                                                                                                                            | 0                                                                                                                                | 1                                                                                                                                | 1                                                                                                                                | 1                                                                                                                                |                                                                                                                                  | 2002-05-02                                                                                                                       | \n",
       "\n",
       "\n"
      ],
      "text/plain": [
       "  eventid      year month day approxdate extended resolution country_id\n",
       "1 200101070007 2001 1      7             1        1/10/2001  4         \n",
       "2 200108170016 2001 8     17             0                   4         \n",
       "3 200109100001 2001 9     10             0                   4         \n",
       "4 200109260002 2001 9     26             0                   4         \n",
       "5 200204130003 2002 4     13             0                   4         \n",
       "6 200205020001 2002 5      2             0                   4         \n",
       "  country     region_id ...\n",
       "1 Afghanistan 6         ...\n",
       "2 Afghanistan 6         ...\n",
       "3 Afghanistan 6         ...\n",
       "4 Afghanistan 6         ...\n",
       "5 Afghanistan 6         ...\n",
       "6 Afghanistan 6         ...\n",
       "  scite1                                                                                                                          \n",
       "1 \"Taliban recapture central Afghan district,\" Agence France-Presse, January 8, 2001.                                             \n",
       "2 “Mashhad radio: Taleban attack displaced people in central Afghanistan,” Voice of the Islamic Republic of Iran, August 18, 2001.\n",
       "3 Luke Harding, “Afghan Rebel Leader Blown Up in Assassination Attempt,” The Guardian, September 11, 2001.                        \n",
       "4 \"Kabul Embassy Building Torched; NATO Meets on Terror,” Agence France Presse, September 26, 2001.                               \n",
       "5 Alexandre Peyrille, \"US troops attacked in Afghanistan, expect more clashes,\" Agence France Press, 04/15/2002.                  \n",
       "6 \"Afghanistan: Four Civilians Injured in Missile Attack on Khost Airport,” Peshawar Afghan Islamic Press in Pashto, May 2, 2002. \n",
       "  scite2                                                                                                              \n",
       "1 \"Taleban killed hundreds of Afghans - reports,\" Reuters, February 19, 2001.                                         \n",
       "2 “Taliban set 400 farmers' tents on fire, steal cattle,\" IRNA, August 17, 2001.                                      \n",
       "3 \"Camera Bomb Injures Leader,” The Herald Sun, September 10, 2001.                                                   \n",
       "4 \"Kabul Embassy Attacked, Taliban Say US Strike Threat Recedes,” Agence France Presse, September 26, 2001.           \n",
       "5 Michelle Boorstein, \"US-led forces kill 'terrorists' as new battles erupt in Afghanistan,\" The Scotsman, 04/15/2002.\n",
       "6 Sergei Artemiev, “US troops in Afghanistan Brought Under Missile Fire,” ITAR-TASS News Agency, May 3, 2002.         \n",
       "  scite3                                                                                             \n",
       "1 \"Afghanistan - Taleban accused of mass killing,\" Pakistan Press International, February 19, 2001.  \n",
       "2                                                                                                    \n",
       "3                                                                                                    \n",
       "4 \"US Embassy Compound Ablaze,” Hobart Mercury, September 27, 2001.                                  \n",
       "5 Michelle Boorstein, \"US troops shot at,\" The Gazette, 04/15/2002.                                  \n",
       "6 Alex Spillius, “Bin Laden's Men Fire Two Rockets at British Base,” The Daily Telegraph, May 3, 2002\n",
       "  dbsource        INT_LOG INT_IDEO INT_MISC INT_ANY related date      \n",
       "1 UMD Schmid 2012 0       0        0        0               2001-01-07\n",
       "2 CETIS           0       0        0        0               2001-08-17\n",
       "3 CETIS           0       0        0        0               2001-09-10\n",
       "4 CETIS           0       1        1        1               2001-09-26\n",
       "5 CETIS           0       1        1        1               2002-04-13\n",
       "6 CETIS           0       1        1        1               2002-05-02"
      ]
     },
     "metadata": {},
     "output_type": "display_data"
    }
   ],
   "source": [
    "head(terror_isil_taliban)"
   ]
  },
  {
   "cell_type": "code",
   "execution_count": 42,
   "metadata": {
    "scrolled": false
   },
   "outputs": [
    {
     "name": "stderr",
     "output_type": "stream",
     "text": [
      "Warning message:\n",
      "\"Removed 9 rows containing non-finite values (stat_count).\"Warning message:\n",
      "\"position_stack requires non-overlapping x intervals\""
     ]
    },
    {
     "data": {},
     "metadata": {},
     "output_type": "display_data"
    },
    {
     "data": {
      "image/png": "[encoded data removed]",
      "text/plain": [
       "plot without title"
      ]
     },
     "metadata": {},
     "output_type": "display_data"
    }
   ],
   "source": [
    "terror_isil_taliban %>% group_by(month = floor_date(date, \"month\")) %>% ggplot(aes(month, fill=region)) + geom_bar()"
   ]
  },
  {
   "cell_type": "markdown",
   "metadata": {},
   "source": [
    "--> Most Terror attacks from ISIL and Taliban in Africa and South Asia"
   ]
  },
  {
   "cell_type": "markdown",
   "metadata": {},
   "source": [
    "### Taliban / ISIL Attacks per year in Middle East & North Africa' and 'South Asia'"
   ]
  },
  {
   "cell_type": "code",
   "execution_count": 43,
   "metadata": {},
   "outputs": [
    {
     "name": "stderr",
     "output_type": "stream",
     "text": [
      "Warning message:\n",
      "\"Removed 9 rows containing non-finite values (stat_count).\""
     ]
    },
    {
     "data": {},
     "metadata": {},
     "output_type": "display_data"
    },
    {
     "data": {
      "image/png": "[encoded data removed]",
      "text/plain": [
       "plot without title"
      ]
     },
     "metadata": {},
     "output_type": "display_data"
    }
   ],
   "source": [
    "terror_isil_taliban_me_na_sa = terror_isil_taliban %>% filter(region %in% c('Middle East & North Africa', 'South Asia'))\n",
    "terror_isil_taliban_me_na_sa %>% group_by(month = floor_date(date, \"month\")) %>% ggplot(aes(month, fill=region)) + geom_bar()"
   ]
  },
  {
   "cell_type": "markdown",
   "metadata": {},
   "source": [
    "--> Taliban & ISIL almost exclusively active in Middle East & North Africa and South Asia  \n",
    "--> A lot of new Attacks in Middle East & North Africa after ca. 2013"
   ]
  },
  {
   "cell_type": "markdown",
   "metadata": {},
   "source": [
    "### Taliban / ISIL Attacktype"
   ]
  },
  {
   "cell_type": "code",
   "execution_count": 44,
   "metadata": {},
   "outputs": [
    {
     "name": "stderr",
     "output_type": "stream",
     "text": [
      "Warning message:\n",
      "\"Removed 9 rows containing non-finite values (stat_count).\"Warning message:\n",
      "\"position_stack requires non-overlapping x intervals\""
     ]
    },
    {
     "data": {},
     "metadata": {},
     "output_type": "display_data"
    },
    {
     "data": {
      "image/png": "[encoded data removed]",
      "text/plain": [
       "plot without title"
      ]
     },
     "metadata": {},
     "output_type": "display_data"
    }
   ],
   "source": [
    "terror_isil_taliban_me_na_sa %>%\n",
    "  group_by(month = floor_date(date, \"month\")) %>% \n",
    "  ggplot(aes(month, fill=attacktype1_txt)) + \n",
    "    geom_bar()"
   ]
  },
  {
   "cell_type": "code",
   "execution_count": 45,
   "metadata": {},
   "outputs": [],
   "source": [
    "monthly_attacks <- terror_after_2001 %>%  \n",
    "  group_by(month = floor_date(date, \"month\")) %>%\n",
    "  summarise(attacks_per_month = n())\n",
    "#terror_isil <- terror %>% filter(gname=='Islamic State of Iraq and the Levant (ISIL)')\n",
    "terror_isil <- terror_after_2001 %>% filter(gname=='Taliban')\n",
    "terror_isil_taliban_by_month <- terror_isil_taliban %>% group_by(month = floor_date(date, \"month\")) %>% summarize(attacks_per_month_isil_taliban = n())"
   ]
  },
  {
   "cell_type": "code",
   "execution_count": 47,
   "metadata": {
    "scrolled": false
   },
   "outputs": [
    {
     "data": {
      "text/html": [
       "<table>\n",
       "<thead><tr><th scope=col>month</th><th scope=col>attacks_per_month</th></tr></thead>\n",
       "<tbody>\n",
       "\t<tr><td>2001-01-01</td><td>161       </td></tr>\n",
       "\t<tr><td>2001-02-01</td><td>129       </td></tr>\n",
       "\t<tr><td>2001-03-01</td><td>165       </td></tr>\n",
       "\t<tr><td>2001-04-01</td><td>117       </td></tr>\n",
       "\t<tr><td>2001-05-01</td><td> 98       </td></tr>\n",
       "\t<tr><td>2001-06-01</td><td> 80       </td></tr>\n",
       "</tbody>\n",
       "</table>\n"
      ],
      "text/latex": [
       "\\begin{tabular}{r|ll}\n",
       " month & attacks\\_per\\_month\\\\\n",
       "\\hline\n",
       "\t 2001-01-01 & 161       \\\\\n",
       "\t 2001-02-01 & 129       \\\\\n",
       "\t 2001-03-01 & 165       \\\\\n",
       "\t 2001-04-01 & 117       \\\\\n",
       "\t 2001-05-01 &  98       \\\\\n",
       "\t 2001-06-01 &  80       \\\\\n",
       "\\end{tabular}\n"
      ],
      "text/markdown": [
       "\n",
       "month | attacks_per_month | \n",
       "|---|---|---|---|---|---|\n",
       "| 2001-01-01 | 161        | \n",
       "| 2001-02-01 | 129        | \n",
       "| 2001-03-01 | 165        | \n",
       "| 2001-04-01 | 117        | \n",
       "| 2001-05-01 |  98        | \n",
       "| 2001-06-01 |  80        | \n",
       "\n",
       "\n"
      ],
      "text/plain": [
       "  month      attacks_per_month\n",
       "1 2001-01-01 161              \n",
       "2 2001-02-01 129              \n",
       "3 2001-03-01 165              \n",
       "4 2001-04-01 117              \n",
       "5 2001-05-01  98              \n",
       "6 2001-06-01  80              "
      ]
     },
     "metadata": {},
     "output_type": "display_data"
    },
    {
     "data": {
      "text/html": [
       "<table>\n",
       "<thead><tr><th scope=col>month</th><th scope=col>attacks_per_month_isil_taliban</th></tr></thead>\n",
       "<tbody>\n",
       "\t<tr><td>2001-01-01</td><td>1         </td></tr>\n",
       "\t<tr><td>2001-08-01</td><td>1         </td></tr>\n",
       "\t<tr><td>2001-09-01</td><td>2         </td></tr>\n",
       "\t<tr><td>2002-04-01</td><td>1         </td></tr>\n",
       "\t<tr><td>2002-05-01</td><td>1         </td></tr>\n",
       "\t<tr><td>2002-11-01</td><td>4         </td></tr>\n",
       "</tbody>\n",
       "</table>\n"
      ],
      "text/latex": [
       "\\begin{tabular}{r|ll}\n",
       " month & attacks\\_per\\_month\\_isil\\_taliban\\\\\n",
       "\\hline\n",
       "\t 2001-01-01 & 1         \\\\\n",
       "\t 2001-08-01 & 1         \\\\\n",
       "\t 2001-09-01 & 2         \\\\\n",
       "\t 2002-04-01 & 1         \\\\\n",
       "\t 2002-05-01 & 1         \\\\\n",
       "\t 2002-11-01 & 4         \\\\\n",
       "\\end{tabular}\n"
      ],
      "text/markdown": [
       "\n",
       "month | attacks_per_month_isil_taliban | \n",
       "|---|---|---|---|---|---|\n",
       "| 2001-01-01 | 1          | \n",
       "| 2001-08-01 | 1          | \n",
       "| 2001-09-01 | 2          | \n",
       "| 2002-04-01 | 1          | \n",
       "| 2002-05-01 | 1          | \n",
       "| 2002-11-01 | 4          | \n",
       "\n",
       "\n"
      ],
      "text/plain": [
       "  month      attacks_per_month_isil_taliban\n",
       "1 2001-01-01 1                             \n",
       "2 2001-08-01 1                             \n",
       "3 2001-09-01 2                             \n",
       "4 2002-04-01 1                             \n",
       "5 2002-05-01 1                             \n",
       "6 2002-11-01 4                             "
      ]
     },
     "metadata": {},
     "output_type": "display_data"
    }
   ],
   "source": [
    "head(monthly_attacks)\n",
    "head(terror_isil_taliban_by_month)"
   ]
  },
  {
   "cell_type": "markdown",
   "metadata": {},
   "source": [
    "### Merge Yearly Attacks and Yearly Attacks by ISIL / Taliban"
   ]
  },
  {
   "cell_type": "code",
   "execution_count": 48,
   "metadata": {
    "scrolled": true
   },
   "outputs": [
    {
     "data": {
      "text/html": [
       "<table>\n",
       "<thead><tr><th scope=col>month</th><th scope=col>attacks_per_month</th><th scope=col>attacks_per_month_isil_taliban</th></tr></thead>\n",
       "<tbody>\n",
       "\t<tr><td>2001-01-01</td><td>161       </td><td> 1        </td></tr>\n",
       "\t<tr><td>2001-02-01</td><td>129       </td><td>NA        </td></tr>\n",
       "\t<tr><td>2001-03-01</td><td>165       </td><td>NA        </td></tr>\n",
       "\t<tr><td>2001-04-01</td><td>117       </td><td>NA        </td></tr>\n",
       "\t<tr><td>2001-05-01</td><td> 98       </td><td>NA        </td></tr>\n",
       "\t<tr><td>2001-06-01</td><td> 80       </td><td>NA        </td></tr>\n",
       "\t<tr><td>2001-07-01</td><td> 77       </td><td>NA        </td></tr>\n",
       "\t<tr><td>2001-08-01</td><td>560       </td><td> 1        </td></tr>\n",
       "\t<tr><td>2001-09-01</td><td>139       </td><td> 2        </td></tr>\n",
       "\t<tr><td>2001-10-01</td><td> 93       </td><td>NA        </td></tr>\n",
       "\t<tr><td>2001-11-01</td><td>138       </td><td>NA        </td></tr>\n",
       "\t<tr><td>2001-12-01</td><td>124       </td><td>NA        </td></tr>\n",
       "\t<tr><td>2002-01-01</td><td>147       </td><td>NA        </td></tr>\n",
       "\t<tr><td>2002-02-01</td><td>138       </td><td>NA        </td></tr>\n",
       "\t<tr><td>2002-03-01</td><td> 75       </td><td>NA        </td></tr>\n",
       "\t<tr><td>2002-04-01</td><td>104       </td><td> 1        </td></tr>\n",
       "\t<tr><td>2002-05-01</td><td>184       </td><td> 1        </td></tr>\n",
       "\t<tr><td>2002-06-01</td><td>103       </td><td>NA        </td></tr>\n",
       "\t<tr><td>2002-07-01</td><td> 91       </td><td>NA        </td></tr>\n",
       "\t<tr><td>2002-08-01</td><td>139       </td><td>NA        </td></tr>\n",
       "\t<tr><td>2002-09-01</td><td> 73       </td><td>NA        </td></tr>\n",
       "\t<tr><td>2002-10-01</td><td> 79       </td><td>NA        </td></tr>\n",
       "\t<tr><td>2002-11-01</td><td>106       </td><td> 4        </td></tr>\n",
       "\t<tr><td>2002-12-01</td><td> 59       </td><td>NA        </td></tr>\n",
       "\t<tr><td>2003-01-01</td><td>195       </td><td> 1        </td></tr>\n",
       "\t<tr><td>2003-02-01</td><td>108       </td><td> 5        </td></tr>\n",
       "\t<tr><td>2003-03-01</td><td>195       </td><td> 4        </td></tr>\n",
       "\t<tr><td>2003-04-01</td><td> 82       </td><td> 3        </td></tr>\n",
       "\t<tr><td>2003-05-01</td><td>155       </td><td> 2        </td></tr>\n",
       "\t<tr><td>2003-06-01</td><td> 61       </td><td> 4        </td></tr>\n",
       "\t<tr><td>...</td><td>...</td><td>...</td></tr>\n",
       "\t<tr><td>2015-08-01</td><td>1290      </td><td>234       </td></tr>\n",
       "\t<tr><td>2015-09-01</td><td>1107      </td><td>207       </td></tr>\n",
       "\t<tr><td>2015-10-01</td><td>1269      </td><td>197       </td></tr>\n",
       "\t<tr><td>2015-11-01</td><td>1172      </td><td>170       </td></tr>\n",
       "\t<tr><td>2015-12-01</td><td>1091      </td><td>186       </td></tr>\n",
       "\t<tr><td>2016-01-01</td><td>1162      </td><td>180       </td></tr>\n",
       "\t<tr><td>2016-02-01</td><td>1153      </td><td>227       </td></tr>\n",
       "\t<tr><td>2016-03-01</td><td>1145      </td><td>185       </td></tr>\n",
       "\t<tr><td>2016-04-01</td><td>1120      </td><td>218       </td></tr>\n",
       "\t<tr><td>2016-05-01</td><td>1353      </td><td>258       </td></tr>\n",
       "\t<tr><td>2016-06-01</td><td>1156      </td><td>218       </td></tr>\n",
       "\t<tr><td>2016-07-01</td><td>1114      </td><td>153       </td></tr>\n",
       "\t<tr><td>2016-08-01</td><td>1162      </td><td>180       </td></tr>\n",
       "\t<tr><td>2016-09-01</td><td>1045      </td><td>272       </td></tr>\n",
       "\t<tr><td>2016-10-01</td><td>1140      </td><td>223       </td></tr>\n",
       "\t<tr><td>2016-11-01</td><td>1114      </td><td>177       </td></tr>\n",
       "\t<tr><td>2016-12-01</td><td> 923      </td><td>228       </td></tr>\n",
       "\t<tr><td>2017-01-01</td><td> 879      </td><td>224       </td></tr>\n",
       "\t<tr><td>2017-02-01</td><td> 879      </td><td>183       </td></tr>\n",
       "\t<tr><td>2017-03-01</td><td> 961      </td><td>152       </td></tr>\n",
       "\t<tr><td>2017-04-01</td><td> 865      </td><td>154       </td></tr>\n",
       "\t<tr><td>2017-05-01</td><td>1081      </td><td>278       </td></tr>\n",
       "\t<tr><td>2017-06-01</td><td>1077      </td><td>244       </td></tr>\n",
       "\t<tr><td>2017-07-01</td><td> 994      </td><td>235       </td></tr>\n",
       "\t<tr><td>2017-08-01</td><td> 968      </td><td>203       </td></tr>\n",
       "\t<tr><td>2017-09-01</td><td> 838      </td><td>158       </td></tr>\n",
       "\t<tr><td>2017-10-01</td><td> 805      </td><td>153       </td></tr>\n",
       "\t<tr><td>2017-11-01</td><td> 804      </td><td>116       </td></tr>\n",
       "\t<tr><td>2017-12-01</td><td> 749      </td><td>109       </td></tr>\n",
       "\t<tr><td>NA  </td><td> 215</td><td>  9 </td></tr>\n",
       "</tbody>\n",
       "</table>\n"
      ],
      "text/latex": [
       "\\begin{tabular}{r|lll}\n",
       " month & attacks\\_per\\_month & attacks\\_per\\_month\\_isil\\_taliban\\\\\n",
       "\\hline\n",
       "\t 2001-01-01 & 161        &  1        \\\\\n",
       "\t 2001-02-01 & 129        & NA        \\\\\n",
       "\t 2001-03-01 & 165        & NA        \\\\\n",
       "\t 2001-04-01 & 117        & NA        \\\\\n",
       "\t 2001-05-01 &  98        & NA        \\\\\n",
       "\t 2001-06-01 &  80        & NA        \\\\\n",
       "\t 2001-07-01 &  77        & NA        \\\\\n",
       "\t 2001-08-01 & 560        &  1        \\\\\n",
       "\t 2001-09-01 & 139        &  2        \\\\\n",
       "\t 2001-10-01 &  93        & NA        \\\\\n",
       "\t 2001-11-01 & 138        & NA        \\\\\n",
       "\t 2001-12-01 & 124        & NA        \\\\\n",
       "\t 2002-01-01 & 147        & NA        \\\\\n",
       "\t 2002-02-01 & 138        & NA        \\\\\n",
       "\t 2002-03-01 &  75        & NA        \\\\\n",
       "\t 2002-04-01 & 104        &  1        \\\\\n",
       "\t 2002-05-01 & 184        &  1        \\\\\n",
       "\t 2002-06-01 & 103        & NA        \\\\\n",
       "\t 2002-07-01 &  91        & NA        \\\\\n",
       "\t 2002-08-01 & 139        & NA        \\\\\n",
       "\t 2002-09-01 &  73        & NA        \\\\\n",
       "\t 2002-10-01 &  79        & NA        \\\\\n",
       "\t 2002-11-01 & 106        &  4        \\\\\n",
       "\t 2002-12-01 &  59        & NA        \\\\\n",
       "\t 2003-01-01 & 195        &  1        \\\\\n",
       "\t 2003-02-01 & 108        &  5        \\\\\n",
       "\t 2003-03-01 & 195        &  4        \\\\\n",
       "\t 2003-04-01 &  82        &  3        \\\\\n",
       "\t 2003-05-01 & 155        &  2        \\\\\n",
       "\t 2003-06-01 &  61        &  4        \\\\\n",
       "\t ... & ... & ...\\\\\n",
       "\t 2015-08-01 & 1290       & 234       \\\\\n",
       "\t 2015-09-01 & 1107       & 207       \\\\\n",
       "\t 2015-10-01 & 1269       & 197       \\\\\n",
       "\t 2015-11-01 & 1172       & 170       \\\\\n",
       "\t 2015-12-01 & 1091       & 186       \\\\\n",
       "\t 2016-01-01 & 1162       & 180       \\\\\n",
       "\t 2016-02-01 & 1153       & 227       \\\\\n",
       "\t 2016-03-01 & 1145       & 185       \\\\\n",
       "\t 2016-04-01 & 1120       & 218       \\\\\n",
       "\t 2016-05-01 & 1353       & 258       \\\\\n",
       "\t 2016-06-01 & 1156       & 218       \\\\\n",
       "\t 2016-07-01 & 1114       & 153       \\\\\n",
       "\t 2016-08-01 & 1162       & 180       \\\\\n",
       "\t 2016-09-01 & 1045       & 272       \\\\\n",
       "\t 2016-10-01 & 1140       & 223       \\\\\n",
       "\t 2016-11-01 & 1114       & 177       \\\\\n",
       "\t 2016-12-01 &  923       & 228       \\\\\n",
       "\t 2017-01-01 &  879       & 224       \\\\\n",
       "\t 2017-02-01 &  879       & 183       \\\\\n",
       "\t 2017-03-01 &  961       & 152       \\\\\n",
       "\t 2017-04-01 &  865       & 154       \\\\\n",
       "\t 2017-05-01 & 1081       & 278       \\\\\n",
       "\t 2017-06-01 & 1077       & 244       \\\\\n",
       "\t 2017-07-01 &  994       & 235       \\\\\n",
       "\t 2017-08-01 &  968       & 203       \\\\\n",
       "\t 2017-09-01 &  838       & 158       \\\\\n",
       "\t 2017-10-01 &  805       & 153       \\\\\n",
       "\t 2017-11-01 &  804       & 116       \\\\\n",
       "\t 2017-12-01 &  749       & 109       \\\\\n",
       "\t NA   &  215 &   9 \\\\\n",
       "\\end{tabular}\n"
      ],
      "text/markdown": [
       "\n",
       "month | attacks_per_month | attacks_per_month_isil_taliban | \n",
       "|---|---|---|---|---|---|---|---|---|---|---|---|---|---|---|---|---|---|---|---|---|---|---|---|---|---|---|---|---|---|---|---|---|---|---|---|---|---|---|---|---|---|---|---|---|---|---|---|---|---|---|---|---|---|---|---|---|---|---|---|---|\n",
       "| 2001-01-01 | 161        |  1         | \n",
       "| 2001-02-01 | 129        | NA         | \n",
       "| 2001-03-01 | 165        | NA         | \n",
       "| 2001-04-01 | 117        | NA         | \n",
       "| 2001-05-01 |  98        | NA         | \n",
       "| 2001-06-01 |  80        | NA         | \n",
       "| 2001-07-01 |  77        | NA         | \n",
       "| 2001-08-01 | 560        |  1         | \n",
       "| 2001-09-01 | 139        |  2         | \n",
       "| 2001-10-01 |  93        | NA         | \n",
       "| 2001-11-01 | 138        | NA         | \n",
       "| 2001-12-01 | 124        | NA         | \n",
       "| 2002-01-01 | 147        | NA         | \n",
       "| 2002-02-01 | 138        | NA         | \n",
       "| 2002-03-01 |  75        | NA         | \n",
       "| 2002-04-01 | 104        |  1         | \n",
       "| 2002-05-01 | 184        |  1         | \n",
       "| 2002-06-01 | 103        | NA         | \n",
       "| 2002-07-01 |  91        | NA         | \n",
       "| 2002-08-01 | 139        | NA         | \n",
       "| 2002-09-01 |  73        | NA         | \n",
       "| 2002-10-01 |  79        | NA         | \n",
       "| 2002-11-01 | 106        |  4         | \n",
       "| 2002-12-01 |  59        | NA         | \n",
       "| 2003-01-01 | 195        |  1         | \n",
       "| 2003-02-01 | 108        |  5         | \n",
       "| 2003-03-01 | 195        |  4         | \n",
       "| 2003-04-01 |  82        |  3         | \n",
       "| 2003-05-01 | 155        |  2         | \n",
       "| 2003-06-01 |  61        |  4         | \n",
       "| ... | ... | ... | \n",
       "| 2015-08-01 | 1290       | 234        | \n",
       "| 2015-09-01 | 1107       | 207        | \n",
       "| 2015-10-01 | 1269       | 197        | \n",
       "| 2015-11-01 | 1172       | 170        | \n",
       "| 2015-12-01 | 1091       | 186        | \n",
       "| 2016-01-01 | 1162       | 180        | \n",
       "| 2016-02-01 | 1153       | 227        | \n",
       "| 2016-03-01 | 1145       | 185        | \n",
       "| 2016-04-01 | 1120       | 218        | \n",
       "| 2016-05-01 | 1353       | 258        | \n",
       "| 2016-06-01 | 1156       | 218        | \n",
       "| 2016-07-01 | 1114       | 153        | \n",
       "| 2016-08-01 | 1162       | 180        | \n",
       "| 2016-09-01 | 1045       | 272        | \n",
       "| 2016-10-01 | 1140       | 223        | \n",
       "| 2016-11-01 | 1114       | 177        | \n",
       "| 2016-12-01 |  923       | 228        | \n",
       "| 2017-01-01 |  879       | 224        | \n",
       "| 2017-02-01 |  879       | 183        | \n",
       "| 2017-03-01 |  961       | 152        | \n",
       "| 2017-04-01 |  865       | 154        | \n",
       "| 2017-05-01 | 1081       | 278        | \n",
       "| 2017-06-01 | 1077       | 244        | \n",
       "| 2017-07-01 |  994       | 235        | \n",
       "| 2017-08-01 |  968       | 203        | \n",
       "| 2017-09-01 |  838       | 158        | \n",
       "| 2017-10-01 |  805       | 153        | \n",
       "| 2017-11-01 |  804       | 116        | \n",
       "| 2017-12-01 |  749       | 109        | \n",
       "| NA   |  215 |   9  | \n",
       "\n",
       "\n"
      ],
      "text/plain": [
       "    month      attacks_per_month attacks_per_month_isil_taliban\n",
       "1   2001-01-01 161                1                            \n",
       "2   2001-02-01 129               NA                            \n",
       "3   2001-03-01 165               NA                            \n",
       "4   2001-04-01 117               NA                            \n",
       "5   2001-05-01  98               NA                            \n",
       "6   2001-06-01  80               NA                            \n",
       "7   2001-07-01  77               NA                            \n",
       "8   2001-08-01 560                1                            \n",
       "9   2001-09-01 139                2                            \n",
       "10  2001-10-01  93               NA                            \n",
       "11  2001-11-01 138               NA                            \n",
       "12  2001-12-01 124               NA                            \n",
       "13  2002-01-01 147               NA                            \n",
       "14  2002-02-01 138               NA                            \n",
       "15  2002-03-01  75               NA                            \n",
       "16  2002-04-01 104                1                            \n",
       "17  2002-05-01 184                1                            \n",
       "18  2002-06-01 103               NA                            \n",
       "19  2002-07-01  91               NA                            \n",
       "20  2002-08-01 139               NA                            \n",
       "21  2002-09-01  73               NA                            \n",
       "22  2002-10-01  79               NA                            \n",
       "23  2002-11-01 106                4                            \n",
       "24  2002-12-01  59               NA                            \n",
       "25  2003-01-01 195                1                            \n",
       "26  2003-02-01 108                5                            \n",
       "27  2003-03-01 195                4                            \n",
       "28  2003-04-01  82                3                            \n",
       "29  2003-05-01 155                2                            \n",
       "30  2003-06-01  61                4                            \n",
       "... ...        ...               ...                           \n",
       "176 2015-08-01 1290              234                           \n",
       "177 2015-09-01 1107              207                           \n",
       "178 2015-10-01 1269              197                           \n",
       "179 2015-11-01 1172              170                           \n",
       "180 2015-12-01 1091              186                           \n",
       "181 2016-01-01 1162              180                           \n",
       "182 2016-02-01 1153              227                           \n",
       "183 2016-03-01 1145              185                           \n",
       "184 2016-04-01 1120              218                           \n",
       "185 2016-05-01 1353              258                           \n",
       "186 2016-06-01 1156              218                           \n",
       "187 2016-07-01 1114              153                           \n",
       "188 2016-08-01 1162              180                           \n",
       "189 2016-09-01 1045              272                           \n",
       "190 2016-10-01 1140              223                           \n",
       "191 2016-11-01 1114              177                           \n",
       "192 2016-12-01  923              228                           \n",
       "193 2017-01-01  879              224                           \n",
       "194 2017-02-01  879              183                           \n",
       "195 2017-03-01  961              152                           \n",
       "196 2017-04-01  865              154                           \n",
       "197 2017-05-01 1081              278                           \n",
       "198 2017-06-01 1077              244                           \n",
       "199 2017-07-01  994              235                           \n",
       "200 2017-08-01  968              203                           \n",
       "201 2017-09-01  838              158                           \n",
       "202 2017-10-01  805              153                           \n",
       "203 2017-11-01  804              116                           \n",
       "204 2017-12-01  749              109                           \n",
       "205 <NA>        215                9                           "
      ]
     },
     "metadata": {},
     "output_type": "display_data"
    }
   ],
   "source": [
    "monthly_attacks_merged <- merge(x = monthly_attacks, y = terror_isil_taliban_by_month, by = \"month\", all.x = TRUE)\n",
    "monthly_attacks_merged"
   ]
  },
  {
   "cell_type": "code",
   "execution_count": 49,
   "metadata": {},
   "outputs": [
    {
     "name": "stderr",
     "output_type": "stream",
     "text": [
      "Warning message:\n",
      "\"Removed 19 rows containing missing values (geom_point).\""
     ]
    },
    {
     "data": {},
     "metadata": {},
     "output_type": "display_data"
    },
    {
     "data": {
      "image/png": "[encoded data removed]",
      "text/plain": [
       "plot without title"
      ]
     },
     "metadata": {},
     "output_type": "display_data"
    }
   ],
   "source": [
    "ggplot(monthly_attacks_merged, aes(attacks_per_month_isil_taliban, attacks_per_month)) + \n",
    "  geom_point()"
   ]
  },
  {
   "cell_type": "markdown",
   "metadata": {},
   "source": [
    "## Create Model"
   ]
  },
  {
   "cell_type": "code",
   "execution_count": 50,
   "metadata": {},
   "outputs": [
    {
     "data": {
      "text/plain": [
       "\n",
       "Call:\n",
       "lm(formula = attacks_per_month ~ attacks_per_month_isil_taliban, \n",
       "    data = monthly_attacks_merged)\n",
       "\n",
       "Coefficients:\n",
       "                   (Intercept)  attacks_per_month_isil_taliban  \n",
       "                       249.263                           4.714  \n"
      ]
     },
     "metadata": {},
     "output_type": "display_data"
    }
   ],
   "source": [
    "mod_monthly_attacks = lm(attacks_per_month ~ attacks_per_month_isil_taliban, data = monthly_attacks_merged)\n",
    "mod_monthly_attacks"
   ]
  },
  {
   "cell_type": "markdown",
   "metadata": {},
   "source": [
    "## Add Predictions --> Predict Attacks per Year"
   ]
  },
  {
   "cell_type": "code",
   "execution_count": 51,
   "metadata": {},
   "outputs": [
    {
     "data": {
      "text/html": [
       "<table>\n",
       "<thead><tr><th scope=col>attacks_per_month_isil_taliban</th><th scope=col>pred</th></tr></thead>\n",
       "<tbody>\n",
       "\t<tr><td> 1      </td><td>253.9768</td></tr>\n",
       "\t<tr><td> 2      </td><td>258.6910</td></tr>\n",
       "\t<tr><td> 3      </td><td>263.4051</td></tr>\n",
       "\t<tr><td> 4      </td><td>268.1193</td></tr>\n",
       "\t<tr><td> 5      </td><td>272.8334</td></tr>\n",
       "\t<tr><td> 6      </td><td>277.5476</td></tr>\n",
       "\t<tr><td> 7      </td><td>282.2617</td></tr>\n",
       "\t<tr><td> 8      </td><td>286.9759</td></tr>\n",
       "\t<tr><td> 9      </td><td>291.6901</td></tr>\n",
       "\t<tr><td>10      </td><td>296.4042</td></tr>\n",
       "\t<tr><td>11      </td><td>301.1184</td></tr>\n",
       "\t<tr><td>12      </td><td>305.8325</td></tr>\n",
       "\t<tr><td>13      </td><td>310.5467</td></tr>\n",
       "\t<tr><td>14      </td><td>315.2608</td></tr>\n",
       "\t<tr><td>15      </td><td>319.9750</td></tr>\n",
       "\t<tr><td>16      </td><td>324.6891</td></tr>\n",
       "\t<tr><td>17      </td><td>329.4033</td></tr>\n",
       "\t<tr><td>18      </td><td>334.1174</td></tr>\n",
       "\t<tr><td>19      </td><td>338.8316</td></tr>\n",
       "\t<tr><td>20      </td><td>343.5458</td></tr>\n",
       "\t<tr><td>21      </td><td>348.2599</td></tr>\n",
       "\t<tr><td>22      </td><td>352.9741</td></tr>\n",
       "\t<tr><td>23      </td><td>357.6882</td></tr>\n",
       "\t<tr><td>24      </td><td>362.4024</td></tr>\n",
       "\t<tr><td>25      </td><td>367.1165</td></tr>\n",
       "\t<tr><td>26      </td><td>371.8307</td></tr>\n",
       "\t<tr><td>27      </td><td>376.5448</td></tr>\n",
       "\t<tr><td>28      </td><td>381.2590</td></tr>\n",
       "\t<tr><td>29      </td><td>385.9732</td></tr>\n",
       "\t<tr><td>30      </td><td>390.6873</td></tr>\n",
       "\t<tr><td>...</td><td>...</td></tr>\n",
       "\t<tr><td>172     </td><td>1060.097</td></tr>\n",
       "\t<tr><td>177     </td><td>1083.668</td></tr>\n",
       "\t<tr><td>180     </td><td>1097.811</td></tr>\n",
       "\t<tr><td>181     </td><td>1102.525</td></tr>\n",
       "\t<tr><td>183     </td><td>1111.953</td></tr>\n",
       "\t<tr><td>185     </td><td>1121.381</td></tr>\n",
       "\t<tr><td>186     </td><td>1126.095</td></tr>\n",
       "\t<tr><td>192     </td><td>1154.380</td></tr>\n",
       "\t<tr><td>193     </td><td>1159.095</td></tr>\n",
       "\t<tr><td>197     </td><td>1177.951</td></tr>\n",
       "\t<tr><td>199     </td><td>1187.379</td></tr>\n",
       "\t<tr><td>203     </td><td>1206.236</td></tr>\n",
       "\t<tr><td>207     </td><td>1225.093</td></tr>\n",
       "\t<tr><td>214     </td><td>1258.092</td></tr>\n",
       "\t<tr><td>218     </td><td>1276.948</td></tr>\n",
       "\t<tr><td>221     </td><td>1291.091</td></tr>\n",
       "\t<tr><td>223     </td><td>1300.519</td></tr>\n",
       "\t<tr><td>224     </td><td>1305.233</td></tr>\n",
       "\t<tr><td>227     </td><td>1319.376</td></tr>\n",
       "\t<tr><td>228     </td><td>1324.090</td></tr>\n",
       "\t<tr><td>234     </td><td>1352.375</td></tr>\n",
       "\t<tr><td>235     </td><td>1357.089</td></tr>\n",
       "\t<tr><td>236     </td><td>1361.803</td></tr>\n",
       "\t<tr><td>244     </td><td>1399.516</td></tr>\n",
       "\t<tr><td>258     </td><td>1465.515</td></tr>\n",
       "\t<tr><td>259     </td><td>1470.229</td></tr>\n",
       "\t<tr><td>272     </td><td>1531.513</td></tr>\n",
       "\t<tr><td>278     </td><td>1559.798</td></tr>\n",
       "\t<tr><td>284     </td><td>1588.083</td></tr>\n",
       "\t<tr><td> NA     </td><td>      NA</td></tr>\n",
       "</tbody>\n",
       "</table>\n"
      ],
      "text/latex": [
       "\\begin{tabular}{r|ll}\n",
       " attacks\\_per\\_month\\_isil\\_taliban & pred\\\\\n",
       "\\hline\n",
       "\t  1       & 253.9768\\\\\n",
       "\t  2       & 258.6910\\\\\n",
       "\t  3       & 263.4051\\\\\n",
       "\t  4       & 268.1193\\\\\n",
       "\t  5       & 272.8334\\\\\n",
       "\t  6       & 277.5476\\\\\n",
       "\t  7       & 282.2617\\\\\n",
       "\t  8       & 286.9759\\\\\n",
       "\t  9       & 291.6901\\\\\n",
       "\t 10       & 296.4042\\\\\n",
       "\t 11       & 301.1184\\\\\n",
       "\t 12       & 305.8325\\\\\n",
       "\t 13       & 310.5467\\\\\n",
       "\t 14       & 315.2608\\\\\n",
       "\t 15       & 319.9750\\\\\n",
       "\t 16       & 324.6891\\\\\n",
       "\t 17       & 329.4033\\\\\n",
       "\t 18       & 334.1174\\\\\n",
       "\t 19       & 338.8316\\\\\n",
       "\t 20       & 343.5458\\\\\n",
       "\t 21       & 348.2599\\\\\n",
       "\t 22       & 352.9741\\\\\n",
       "\t 23       & 357.6882\\\\\n",
       "\t 24       & 362.4024\\\\\n",
       "\t 25       & 367.1165\\\\\n",
       "\t 26       & 371.8307\\\\\n",
       "\t 27       & 376.5448\\\\\n",
       "\t 28       & 381.2590\\\\\n",
       "\t 29       & 385.9732\\\\\n",
       "\t 30       & 390.6873\\\\\n",
       "\t ... & ...\\\\\n",
       "\t 172      & 1060.097\\\\\n",
       "\t 177      & 1083.668\\\\\n",
       "\t 180      & 1097.811\\\\\n",
       "\t 181      & 1102.525\\\\\n",
       "\t 183      & 1111.953\\\\\n",
       "\t 185      & 1121.381\\\\\n",
       "\t 186      & 1126.095\\\\\n",
       "\t 192      & 1154.380\\\\\n",
       "\t 193      & 1159.095\\\\\n",
       "\t 197      & 1177.951\\\\\n",
       "\t 199      & 1187.379\\\\\n",
       "\t 203      & 1206.236\\\\\n",
       "\t 207      & 1225.093\\\\\n",
       "\t 214      & 1258.092\\\\\n",
       "\t 218      & 1276.948\\\\\n",
       "\t 221      & 1291.091\\\\\n",
       "\t 223      & 1300.519\\\\\n",
       "\t 224      & 1305.233\\\\\n",
       "\t 227      & 1319.376\\\\\n",
       "\t 228      & 1324.090\\\\\n",
       "\t 234      & 1352.375\\\\\n",
       "\t 235      & 1357.089\\\\\n",
       "\t 236      & 1361.803\\\\\n",
       "\t 244      & 1399.516\\\\\n",
       "\t 258      & 1465.515\\\\\n",
       "\t 259      & 1470.229\\\\\n",
       "\t 272      & 1531.513\\\\\n",
       "\t 278      & 1559.798\\\\\n",
       "\t 284      & 1588.083\\\\\n",
       "\t  NA      &       NA\\\\\n",
       "\\end{tabular}\n"
      ],
      "text/markdown": [
       "\n",
       "attacks_per_month_isil_taliban | pred | \n",
       "|---|---|---|---|---|---|---|---|---|---|---|---|---|---|---|---|---|---|---|---|---|---|---|---|---|---|---|---|---|---|---|---|---|---|---|---|---|---|---|---|---|---|---|---|---|---|---|---|---|---|---|---|---|---|---|---|---|---|---|---|---|\n",
       "|  1       | 253.9768 | \n",
       "|  2       | 258.6910 | \n",
       "|  3       | 263.4051 | \n",
       "|  4       | 268.1193 | \n",
       "|  5       | 272.8334 | \n",
       "|  6       | 277.5476 | \n",
       "|  7       | 282.2617 | \n",
       "|  8       | 286.9759 | \n",
       "|  9       | 291.6901 | \n",
       "| 10       | 296.4042 | \n",
       "| 11       | 301.1184 | \n",
       "| 12       | 305.8325 | \n",
       "| 13       | 310.5467 | \n",
       "| 14       | 315.2608 | \n",
       "| 15       | 319.9750 | \n",
       "| 16       | 324.6891 | \n",
       "| 17       | 329.4033 | \n",
       "| 18       | 334.1174 | \n",
       "| 19       | 338.8316 | \n",
       "| 20       | 343.5458 | \n",
       "| 21       | 348.2599 | \n",
       "| 22       | 352.9741 | \n",
       "| 23       | 357.6882 | \n",
       "| 24       | 362.4024 | \n",
       "| 25       | 367.1165 | \n",
       "| 26       | 371.8307 | \n",
       "| 27       | 376.5448 | \n",
       "| 28       | 381.2590 | \n",
       "| 29       | 385.9732 | \n",
       "| 30       | 390.6873 | \n",
       "| ... | ... | \n",
       "| 172      | 1060.097 | \n",
       "| 177      | 1083.668 | \n",
       "| 180      | 1097.811 | \n",
       "| 181      | 1102.525 | \n",
       "| 183      | 1111.953 | \n",
       "| 185      | 1121.381 | \n",
       "| 186      | 1126.095 | \n",
       "| 192      | 1154.380 | \n",
       "| 193      | 1159.095 | \n",
       "| 197      | 1177.951 | \n",
       "| 199      | 1187.379 | \n",
       "| 203      | 1206.236 | \n",
       "| 207      | 1225.093 | \n",
       "| 214      | 1258.092 | \n",
       "| 218      | 1276.948 | \n",
       "| 221      | 1291.091 | \n",
       "| 223      | 1300.519 | \n",
       "| 224      | 1305.233 | \n",
       "| 227      | 1319.376 | \n",
       "| 228      | 1324.090 | \n",
       "| 234      | 1352.375 | \n",
       "| 235      | 1357.089 | \n",
       "| 236      | 1361.803 | \n",
       "| 244      | 1399.516 | \n",
       "| 258      | 1465.515 | \n",
       "| 259      | 1470.229 | \n",
       "| 272      | 1531.513 | \n",
       "| 278      | 1559.798 | \n",
       "| 284      | 1588.083 | \n",
       "|  NA      |       NA | \n",
       "\n",
       "\n"
      ],
      "text/plain": [
       "    attacks_per_month_isil_taliban pred    \n",
       "1    1                             253.9768\n",
       "2    2                             258.6910\n",
       "3    3                             263.4051\n",
       "4    4                             268.1193\n",
       "5    5                             272.8334\n",
       "6    6                             277.5476\n",
       "7    7                             282.2617\n",
       "8    8                             286.9759\n",
       "9    9                             291.6901\n",
       "10  10                             296.4042\n",
       "11  11                             301.1184\n",
       "12  12                             305.8325\n",
       "13  13                             310.5467\n",
       "14  14                             315.2608\n",
       "15  15                             319.9750\n",
       "16  16                             324.6891\n",
       "17  17                             329.4033\n",
       "18  18                             334.1174\n",
       "19  19                             338.8316\n",
       "20  20                             343.5458\n",
       "21  21                             348.2599\n",
       "22  22                             352.9741\n",
       "23  23                             357.6882\n",
       "24  24                             362.4024\n",
       "25  25                             367.1165\n",
       "26  26                             371.8307\n",
       "27  27                             376.5448\n",
       "28  28                             381.2590\n",
       "29  29                             385.9732\n",
       "30  30                             390.6873\n",
       "... ...                            ...     \n",
       "69  172                            1060.097\n",
       "70  177                            1083.668\n",
       "71  180                            1097.811\n",
       "72  181                            1102.525\n",
       "73  183                            1111.953\n",
       "74  185                            1121.381\n",
       "75  186                            1126.095\n",
       "76  192                            1154.380\n",
       "77  193                            1159.095\n",
       "78  197                            1177.951\n",
       "79  199                            1187.379\n",
       "80  203                            1206.236\n",
       "81  207                            1225.093\n",
       "82  214                            1258.092\n",
       "83  218                            1276.948\n",
       "84  221                            1291.091\n",
       "85  223                            1300.519\n",
       "86  224                            1305.233\n",
       "87  227                            1319.376\n",
       "88  228                            1324.090\n",
       "89  234                            1352.375\n",
       "90  235                            1357.089\n",
       "91  236                            1361.803\n",
       "92  244                            1399.516\n",
       "93  258                            1465.515\n",
       "94  259                            1470.229\n",
       "95  272                            1531.513\n",
       "96  278                            1559.798\n",
       "97  284                            1588.083\n",
       "98   NA                                  NA"
      ]
     },
     "metadata": {},
     "output_type": "display_data"
    }
   ],
   "source": [
    "grid <- monthly_attacks_merged %>% \n",
    "  data_grid(attacks_per_month_isil_taliban) %>% \n",
    "  add_predictions(mod_monthly_attacks)\n",
    "grid"
   ]
  },
  {
   "cell_type": "markdown",
   "metadata": {},
   "source": [
    "## Visualize model"
   ]
  },
  {
   "cell_type": "code",
   "execution_count": 52,
   "metadata": {},
   "outputs": [
    {
     "name": "stderr",
     "output_type": "stream",
     "text": [
      "Warning message:\n",
      "\"Removed 19 rows containing missing values (geom_point).\"Warning message:\n",
      "\"Removed 1 rows containing missing values (geom_path).\""
     ]
    },
    {
     "data": {},
     "metadata": {},
     "output_type": "display_data"
    },
    {
     "data": {
      "image/png": "[encoded data removed]",
      "text/plain": [
       "plot without title"
      ]
     },
     "metadata": {},
     "output_type": "display_data"
    }
   ],
   "source": [
    "ggplot(monthly_attacks_merged, aes(attacks_per_month_isil_taliban)) + \n",
    "  geom_point(aes(y = attacks_per_month)) +\n",
    "  geom_line(data = grid, aes(y = pred), colour = \"red\", size = 1)"
   ]
  },
  {
   "cell_type": "markdown",
   "metadata": {},
   "source": [
    "## Show residuals from Model"
   ]
  },
  {
   "cell_type": "code",
   "execution_count": 53,
   "metadata": {
    "scrolled": true
   },
   "outputs": [
    {
     "data": {
      "text/html": [
       "<table>\n",
       "<thead><tr><th scope=col>month</th><th scope=col>attacks_per_month</th><th scope=col>attacks_per_month_isil_taliban</th><th scope=col>resid</th></tr></thead>\n",
       "<tbody>\n",
       "\t<tr><td>2001-01-01</td><td>161       </td><td> 1        </td><td> -92.97681</td></tr>\n",
       "\t<tr><td>2001-02-01</td><td>129       </td><td>NA        </td><td>        NA</td></tr>\n",
       "\t<tr><td>2001-03-01</td><td>165       </td><td>NA        </td><td>        NA</td></tr>\n",
       "\t<tr><td>2001-04-01</td><td>117       </td><td>NA        </td><td>        NA</td></tr>\n",
       "\t<tr><td>2001-05-01</td><td> 98       </td><td>NA        </td><td>        NA</td></tr>\n",
       "\t<tr><td>2001-06-01</td><td> 80       </td><td>NA        </td><td>        NA</td></tr>\n",
       "\t<tr><td>2001-07-01</td><td> 77       </td><td>NA        </td><td>        NA</td></tr>\n",
       "\t<tr><td>2001-08-01</td><td>560       </td><td> 1        </td><td> 306.02319</td></tr>\n",
       "\t<tr><td>2001-09-01</td><td>139       </td><td> 2        </td><td>-119.69097</td></tr>\n",
       "\t<tr><td>2001-10-01</td><td> 93       </td><td>NA        </td><td>        NA</td></tr>\n",
       "\t<tr><td>2001-11-01</td><td>138       </td><td>NA        </td><td>        NA</td></tr>\n",
       "\t<tr><td>2001-12-01</td><td>124       </td><td>NA        </td><td>        NA</td></tr>\n",
       "\t<tr><td>2002-01-01</td><td>147       </td><td>NA        </td><td>        NA</td></tr>\n",
       "\t<tr><td>2002-02-01</td><td>138       </td><td>NA        </td><td>        NA</td></tr>\n",
       "\t<tr><td>2002-03-01</td><td> 75       </td><td>NA        </td><td>        NA</td></tr>\n",
       "\t<tr><td>2002-04-01</td><td>104       </td><td> 1        </td><td>-149.97681</td></tr>\n",
       "\t<tr><td>2002-05-01</td><td>184       </td><td> 1        </td><td> -69.97681</td></tr>\n",
       "\t<tr><td>2002-06-01</td><td>103       </td><td>NA        </td><td>        NA</td></tr>\n",
       "\t<tr><td>2002-07-01</td><td> 91       </td><td>NA        </td><td>        NA</td></tr>\n",
       "\t<tr><td>2002-08-01</td><td>139       </td><td>NA        </td><td>        NA</td></tr>\n",
       "\t<tr><td>2002-09-01</td><td> 73       </td><td>NA        </td><td>        NA</td></tr>\n",
       "\t<tr><td>2002-10-01</td><td> 79       </td><td>NA        </td><td>        NA</td></tr>\n",
       "\t<tr><td>2002-11-01</td><td>106       </td><td> 4        </td><td>-162.11928</td></tr>\n",
       "\t<tr><td>2002-12-01</td><td> 59       </td><td>NA        </td><td>        NA</td></tr>\n",
       "\t<tr><td>2003-01-01</td><td>195       </td><td> 1        </td><td> -58.97681</td></tr>\n",
       "\t<tr><td>2003-02-01</td><td>108       </td><td> 5        </td><td>-164.83343</td></tr>\n",
       "\t<tr><td>2003-03-01</td><td>195       </td><td> 4        </td><td> -73.11928</td></tr>\n",
       "\t<tr><td>2003-04-01</td><td> 82       </td><td> 3        </td><td>-181.40512</td></tr>\n",
       "\t<tr><td>2003-05-01</td><td>155       </td><td> 2        </td><td>-103.69097</td></tr>\n",
       "\t<tr><td>2003-06-01</td><td> 61       </td><td> 4        </td><td>-207.11928</td></tr>\n",
       "\t<tr><td>...</td><td>...</td><td>...</td><td>...</td></tr>\n",
       "\t<tr><td>2015-08-01 </td><td>1290       </td><td>234        </td><td> -62.374909</td></tr>\n",
       "\t<tr><td>2015-09-01 </td><td>1107       </td><td>207        </td><td>-118.092727</td></tr>\n",
       "\t<tr><td>2015-10-01 </td><td>1269       </td><td>197        </td><td>  91.048822</td></tr>\n",
       "\t<tr><td>2015-11-01 </td><td>1172       </td><td>170        </td><td> 121.331005</td></tr>\n",
       "\t<tr><td>2015-12-01 </td><td>1091       </td><td>186        </td><td> -35.095473</td></tr>\n",
       "\t<tr><td>2016-01-01 </td><td>1162       </td><td>180        </td><td>  64.189456</td></tr>\n",
       "\t<tr><td>2016-02-01 </td><td>1153       </td><td>227        </td><td>-166.375825</td></tr>\n",
       "\t<tr><td>2016-03-01 </td><td>1145       </td><td>185        </td><td>  23.618681</td></tr>\n",
       "\t<tr><td>2016-04-01 </td><td>1120       </td><td>218        </td><td>-156.948431</td></tr>\n",
       "\t<tr><td>2016-05-01 </td><td>1353       </td><td>258        </td><td>-112.514627</td></tr>\n",
       "\t<tr><td>2016-06-01 </td><td>1156       </td><td>218        </td><td>-120.948431</td></tr>\n",
       "\t<tr><td>2016-07-01 </td><td>1114       </td><td>153        </td><td> 143.471639</td></tr>\n",
       "\t<tr><td>2016-08-01 </td><td>1162       </td><td>180        </td><td>  64.189456</td></tr>\n",
       "\t<tr><td>2016-09-01 </td><td>1045       </td><td>272        </td><td>-486.512796</td></tr>\n",
       "\t<tr><td>2016-10-01 </td><td>1140       </td><td>223        </td><td>-160.519205</td></tr>\n",
       "\t<tr><td>2016-11-01 </td><td>1114       </td><td>177        </td><td>  30.331921</td></tr>\n",
       "\t<tr><td>2016-12-01 </td><td> 923       </td><td>228        </td><td>-401.089980</td></tr>\n",
       "\t<tr><td>2017-01-01 </td><td> 879       </td><td>224        </td><td>-426.233360</td></tr>\n",
       "\t<tr><td>2017-02-01 </td><td> 879       </td><td>183        </td><td>-232.953009</td></tr>\n",
       "\t<tr><td>2017-03-01 </td><td> 961       </td><td>152        </td><td>  -4.814206</td></tr>\n",
       "\t<tr><td>2017-04-01 </td><td> 865       </td><td>154        </td><td>-110.242516</td></tr>\n",
       "\t<tr><td>2017-05-01 </td><td>1081       </td><td>278        </td><td>-478.797726</td></tr>\n",
       "\t<tr><td>2017-06-01 </td><td>1077       </td><td>244        </td><td>-322.516458</td></tr>\n",
       "\t<tr><td>2017-07-01 </td><td> 994       </td><td>235        </td><td>-363.089064</td></tr>\n",
       "\t<tr><td>2017-08-01 </td><td> 968       </td><td>203        </td><td>-238.236107</td></tr>\n",
       "\t<tr><td>2017-09-01 </td><td> 838       </td><td>158        </td><td>-156.099136</td></tr>\n",
       "\t<tr><td>2017-10-01 </td><td> 805       </td><td>153        </td><td>-165.528361</td></tr>\n",
       "\t<tr><td>2017-11-01 </td><td> 804       </td><td>116        </td><td>   7.895371</td></tr>\n",
       "\t<tr><td>2017-12-01 </td><td> 749       </td><td>109        </td><td> -14.105545</td></tr>\n",
       "\t<tr><td>NA         </td><td> 215       </td><td>  9        </td><td> -76.690054</td></tr>\n",
       "</tbody>\n",
       "</table>\n"
      ],
      "text/latex": [
       "\\begin{tabular}{r|llll}\n",
       " month & attacks\\_per\\_month & attacks\\_per\\_month\\_isil\\_taliban & resid\\\\\n",
       "\\hline\n",
       "\t 2001-01-01 & 161        &  1         &  -92.97681\\\\\n",
       "\t 2001-02-01 & 129        & NA         &         NA\\\\\n",
       "\t 2001-03-01 & 165        & NA         &         NA\\\\\n",
       "\t 2001-04-01 & 117        & NA         &         NA\\\\\n",
       "\t 2001-05-01 &  98        & NA         &         NA\\\\\n",
       "\t 2001-06-01 &  80        & NA         &         NA\\\\\n",
       "\t 2001-07-01 &  77        & NA         &         NA\\\\\n",
       "\t 2001-08-01 & 560        &  1         &  306.02319\\\\\n",
       "\t 2001-09-01 & 139        &  2         & -119.69097\\\\\n",
       "\t 2001-10-01 &  93        & NA         &         NA\\\\\n",
       "\t 2001-11-01 & 138        & NA         &         NA\\\\\n",
       "\t 2001-12-01 & 124        & NA         &         NA\\\\\n",
       "\t 2002-01-01 & 147        & NA         &         NA\\\\\n",
       "\t 2002-02-01 & 138        & NA         &         NA\\\\\n",
       "\t 2002-03-01 &  75        & NA         &         NA\\\\\n",
       "\t 2002-04-01 & 104        &  1         & -149.97681\\\\\n",
       "\t 2002-05-01 & 184        &  1         &  -69.97681\\\\\n",
       "\t 2002-06-01 & 103        & NA         &         NA\\\\\n",
       "\t 2002-07-01 &  91        & NA         &         NA\\\\\n",
       "\t 2002-08-01 & 139        & NA         &         NA\\\\\n",
       "\t 2002-09-01 &  73        & NA         &         NA\\\\\n",
       "\t 2002-10-01 &  79        & NA         &         NA\\\\\n",
       "\t 2002-11-01 & 106        &  4         & -162.11928\\\\\n",
       "\t 2002-12-01 &  59        & NA         &         NA\\\\\n",
       "\t 2003-01-01 & 195        &  1         &  -58.97681\\\\\n",
       "\t 2003-02-01 & 108        &  5         & -164.83343\\\\\n",
       "\t 2003-03-01 & 195        &  4         &  -73.11928\\\\\n",
       "\t 2003-04-01 &  82        &  3         & -181.40512\\\\\n",
       "\t 2003-05-01 & 155        &  2         & -103.69097\\\\\n",
       "\t 2003-06-01 &  61        &  4         & -207.11928\\\\\n",
       "\t ... & ... & ... & ...\\\\\n",
       "\t 2015-08-01  & 1290        & 234         &  -62.374909\\\\\n",
       "\t 2015-09-01  & 1107        & 207         & -118.092727\\\\\n",
       "\t 2015-10-01  & 1269        & 197         &   91.048822\\\\\n",
       "\t 2015-11-01  & 1172        & 170         &  121.331005\\\\\n",
       "\t 2015-12-01  & 1091        & 186         &  -35.095473\\\\\n",
       "\t 2016-01-01  & 1162        & 180         &   64.189456\\\\\n",
       "\t 2016-02-01  & 1153        & 227         & -166.375825\\\\\n",
       "\t 2016-03-01  & 1145        & 185         &   23.618681\\\\\n",
       "\t 2016-04-01  & 1120        & 218         & -156.948431\\\\\n",
       "\t 2016-05-01  & 1353        & 258         & -112.514627\\\\\n",
       "\t 2016-06-01  & 1156        & 218         & -120.948431\\\\\n",
       "\t 2016-07-01  & 1114        & 153         &  143.471639\\\\\n",
       "\t 2016-08-01  & 1162        & 180         &   64.189456\\\\\n",
       "\t 2016-09-01  & 1045        & 272         & -486.512796\\\\\n",
       "\t 2016-10-01  & 1140        & 223         & -160.519205\\\\\n",
       "\t 2016-11-01  & 1114        & 177         &   30.331921\\\\\n",
       "\t 2016-12-01  &  923        & 228         & -401.089980\\\\\n",
       "\t 2017-01-01  &  879        & 224         & -426.233360\\\\\n",
       "\t 2017-02-01  &  879        & 183         & -232.953009\\\\\n",
       "\t 2017-03-01  &  961        & 152         &   -4.814206\\\\\n",
       "\t 2017-04-01  &  865        & 154         & -110.242516\\\\\n",
       "\t 2017-05-01  & 1081        & 278         & -478.797726\\\\\n",
       "\t 2017-06-01  & 1077        & 244         & -322.516458\\\\\n",
       "\t 2017-07-01  &  994        & 235         & -363.089064\\\\\n",
       "\t 2017-08-01  &  968        & 203         & -238.236107\\\\\n",
       "\t 2017-09-01  &  838        & 158         & -156.099136\\\\\n",
       "\t 2017-10-01  &  805        & 153         & -165.528361\\\\\n",
       "\t 2017-11-01  &  804        & 116         &    7.895371\\\\\n",
       "\t 2017-12-01  &  749        & 109         &  -14.105545\\\\\n",
       "\t NA          &  215        &   9         &  -76.690054\\\\\n",
       "\\end{tabular}\n"
      ],
      "text/markdown": [
       "\n",
       "month | attacks_per_month | attacks_per_month_isil_taliban | resid | \n",
       "|---|---|---|---|---|---|---|---|---|---|---|---|---|---|---|---|---|---|---|---|---|---|---|---|---|---|---|---|---|---|---|---|---|---|---|---|---|---|---|---|---|---|---|---|---|---|---|---|---|---|---|---|---|---|---|---|---|---|---|---|---|\n",
       "| 2001-01-01 | 161        |  1         |  -92.97681 | \n",
       "| 2001-02-01 | 129        | NA         |         NA | \n",
       "| 2001-03-01 | 165        | NA         |         NA | \n",
       "| 2001-04-01 | 117        | NA         |         NA | \n",
       "| 2001-05-01 |  98        | NA         |         NA | \n",
       "| 2001-06-01 |  80        | NA         |         NA | \n",
       "| 2001-07-01 |  77        | NA         |         NA | \n",
       "| 2001-08-01 | 560        |  1         |  306.02319 | \n",
       "| 2001-09-01 | 139        |  2         | -119.69097 | \n",
       "| 2001-10-01 |  93        | NA         |         NA | \n",
       "| 2001-11-01 | 138        | NA         |         NA | \n",
       "| 2001-12-01 | 124        | NA         |         NA | \n",
       "| 2002-01-01 | 147        | NA         |         NA | \n",
       "| 2002-02-01 | 138        | NA         |         NA | \n",
       "| 2002-03-01 |  75        | NA         |         NA | \n",
       "| 2002-04-01 | 104        |  1         | -149.97681 | \n",
       "| 2002-05-01 | 184        |  1         |  -69.97681 | \n",
       "| 2002-06-01 | 103        | NA         |         NA | \n",
       "| 2002-07-01 |  91        | NA         |         NA | \n",
       "| 2002-08-01 | 139        | NA         |         NA | \n",
       "| 2002-09-01 |  73        | NA         |         NA | \n",
       "| 2002-10-01 |  79        | NA         |         NA | \n",
       "| 2002-11-01 | 106        |  4         | -162.11928 | \n",
       "| 2002-12-01 |  59        | NA         |         NA | \n",
       "| 2003-01-01 | 195        |  1         |  -58.97681 | \n",
       "| 2003-02-01 | 108        |  5         | -164.83343 | \n",
       "| 2003-03-01 | 195        |  4         |  -73.11928 | \n",
       "| 2003-04-01 |  82        |  3         | -181.40512 | \n",
       "| 2003-05-01 | 155        |  2         | -103.69097 | \n",
       "| 2003-06-01 |  61        |  4         | -207.11928 | \n",
       "| ... | ... | ... | ... | \n",
       "| 2015-08-01  | 1290        | 234         |  -62.374909 | \n",
       "| 2015-09-01  | 1107        | 207         | -118.092727 | \n",
       "| 2015-10-01  | 1269        | 197         |   91.048822 | \n",
       "| 2015-11-01  | 1172        | 170         |  121.331005 | \n",
       "| 2015-12-01  | 1091        | 186         |  -35.095473 | \n",
       "| 2016-01-01  | 1162        | 180         |   64.189456 | \n",
       "| 2016-02-01  | 1153        | 227         | -166.375825 | \n",
       "| 2016-03-01  | 1145        | 185         |   23.618681 | \n",
       "| 2016-04-01  | 1120        | 218         | -156.948431 | \n",
       "| 2016-05-01  | 1353        | 258         | -112.514627 | \n",
       "| 2016-06-01  | 1156        | 218         | -120.948431 | \n",
       "| 2016-07-01  | 1114        | 153         |  143.471639 | \n",
       "| 2016-08-01  | 1162        | 180         |   64.189456 | \n",
       "| 2016-09-01  | 1045        | 272         | -486.512796 | \n",
       "| 2016-10-01  | 1140        | 223         | -160.519205 | \n",
       "| 2016-11-01  | 1114        | 177         |   30.331921 | \n",
       "| 2016-12-01  |  923        | 228         | -401.089980 | \n",
       "| 2017-01-01  |  879        | 224         | -426.233360 | \n",
       "| 2017-02-01  |  879        | 183         | -232.953009 | \n",
       "| 2017-03-01  |  961        | 152         |   -4.814206 | \n",
       "| 2017-04-01  |  865        | 154         | -110.242516 | \n",
       "| 2017-05-01  | 1081        | 278         | -478.797726 | \n",
       "| 2017-06-01  | 1077        | 244         | -322.516458 | \n",
       "| 2017-07-01  |  994        | 235         | -363.089064 | \n",
       "| 2017-08-01  |  968        | 203         | -238.236107 | \n",
       "| 2017-09-01  |  838        | 158         | -156.099136 | \n",
       "| 2017-10-01  |  805        | 153         | -165.528361 | \n",
       "| 2017-11-01  |  804        | 116         |    7.895371 | \n",
       "| 2017-12-01  |  749        | 109         |  -14.105545 | \n",
       "| NA          |  215        |   9         |  -76.690054 | \n",
       "\n",
       "\n"
      ],
      "text/plain": [
       "    month      attacks_per_month attacks_per_month_isil_taliban resid      \n",
       "1   2001-01-01 161                1                              -92.97681 \n",
       "2   2001-02-01 129               NA                                     NA \n",
       "3   2001-03-01 165               NA                                     NA \n",
       "4   2001-04-01 117               NA                                     NA \n",
       "5   2001-05-01  98               NA                                     NA \n",
       "6   2001-06-01  80               NA                                     NA \n",
       "7   2001-07-01  77               NA                                     NA \n",
       "8   2001-08-01 560                1                              306.02319 \n",
       "9   2001-09-01 139                2                             -119.69097 \n",
       "10  2001-10-01  93               NA                                     NA \n",
       "11  2001-11-01 138               NA                                     NA \n",
       "12  2001-12-01 124               NA                                     NA \n",
       "13  2002-01-01 147               NA                                     NA \n",
       "14  2002-02-01 138               NA                                     NA \n",
       "15  2002-03-01  75               NA                                     NA \n",
       "16  2002-04-01 104                1                             -149.97681 \n",
       "17  2002-05-01 184                1                              -69.97681 \n",
       "18  2002-06-01 103               NA                                     NA \n",
       "19  2002-07-01  91               NA                                     NA \n",
       "20  2002-08-01 139               NA                                     NA \n",
       "21  2002-09-01  73               NA                                     NA \n",
       "22  2002-10-01  79               NA                                     NA \n",
       "23  2002-11-01 106                4                             -162.11928 \n",
       "24  2002-12-01  59               NA                                     NA \n",
       "25  2003-01-01 195                1                              -58.97681 \n",
       "26  2003-02-01 108                5                             -164.83343 \n",
       "27  2003-03-01 195                4                              -73.11928 \n",
       "28  2003-04-01  82                3                             -181.40512 \n",
       "29  2003-05-01 155                2                             -103.69097 \n",
       "30  2003-06-01  61                4                             -207.11928 \n",
       "... ...        ...               ...                            ...        \n",
       "176 2015-08-01 1290              234                             -62.374909\n",
       "177 2015-09-01 1107              207                            -118.092727\n",
       "178 2015-10-01 1269              197                              91.048822\n",
       "179 2015-11-01 1172              170                             121.331005\n",
       "180 2015-12-01 1091              186                             -35.095473\n",
       "181 2016-01-01 1162              180                              64.189456\n",
       "182 2016-02-01 1153              227                            -166.375825\n",
       "183 2016-03-01 1145              185                              23.618681\n",
       "184 2016-04-01 1120              218                            -156.948431\n",
       "185 2016-05-01 1353              258                            -112.514627\n",
       "186 2016-06-01 1156              218                            -120.948431\n",
       "187 2016-07-01 1114              153                             143.471639\n",
       "188 2016-08-01 1162              180                              64.189456\n",
       "189 2016-09-01 1045              272                            -486.512796\n",
       "190 2016-10-01 1140              223                            -160.519205\n",
       "191 2016-11-01 1114              177                              30.331921\n",
       "192 2016-12-01  923              228                            -401.089980\n",
       "193 2017-01-01  879              224                            -426.233360\n",
       "194 2017-02-01  879              183                            -232.953009\n",
       "195 2017-03-01  961              152                              -4.814206\n",
       "196 2017-04-01  865              154                            -110.242516\n",
       "197 2017-05-01 1081              278                            -478.797726\n",
       "198 2017-06-01 1077              244                            -322.516458\n",
       "199 2017-07-01  994              235                            -363.089064\n",
       "200 2017-08-01  968              203                            -238.236107\n",
       "201 2017-09-01  838              158                            -156.099136\n",
       "202 2017-10-01  805              153                            -165.528361\n",
       "203 2017-11-01  804              116                               7.895371\n",
       "204 2017-12-01  749              109                             -14.105545\n",
       "205 <NA>        215                9                             -76.690054"
      ]
     },
     "metadata": {},
     "output_type": "display_data"
    }
   ],
   "source": [
    "grid <- monthly_attacks_merged %>% \n",
    "  add_residuals(mod_monthly_attacks)\n",
    "grid"
   ]
  },
  {
   "cell_type": "code",
   "execution_count": 54,
   "metadata": {},
   "outputs": [
    {
     "name": "stderr",
     "output_type": "stream",
     "text": [
      "`geom_smooth()` using method = 'loess' and formula 'y ~ x'\n",
      "Warning message:\n",
      "\"Removed 20 rows containing non-finite values (stat_smooth).\"Warning message:\n",
      "\"Removed 20 rows containing missing values (geom_point).\""
     ]
    },
    {
     "data": {},
     "metadata": {},
     "output_type": "display_data"
    },
    {
     "data": {
      "image/png": "[encoded data removed]",
      "text/plain": [
       "plot without title"
      ]
     },
     "metadata": {},
     "output_type": "display_data"
    }
   ],
   "source": [
    "ggplot(grid, aes(month, resid)) + \n",
    "  geom_ref_line(h = 0) +\n",
    "  geom_point() + \n",
    "  geom_smooth(se = FALSE, span = 0.5)"
   ]
  },
  {
   "cell_type": "markdown",
   "metadata": {},
   "source": [
    "--> Model is quite bad because there are high residuals, which are not random."
   ]
  }
 ],
 "metadata": {
  "kernelspec": {
   "display_name": "R",
   "language": "R",
   "name": "ir"
  },
  "language_info": {
   "codemirror_mode": "r",
   "file_extension": ".r",
   "mimetype": "text/x-r-source",
   "name": "R",
   "pygments_lexer": "r",
   "version": "3.5.1"
  }
 },
 "nbformat": 4,
 "nbformat_minor": 2
}
